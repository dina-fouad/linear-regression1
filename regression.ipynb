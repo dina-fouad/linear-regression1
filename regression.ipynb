{
 "cells": [
  {
   "cell_type": "code",
   "execution_count": 92,
   "source": [
    "\n",
    "import pandas as pd\n",
    "import pandas as pd\n",
    "import matplotlib.pyplot as plt\n",
    "from sklearn.linear_model import LinearRegression\n",
    "from sklearn.model_selection import train_test_split\n",
    "\n"
   ],
   "outputs": [],
   "metadata": {}
  },
  {
   "cell_type": "markdown",
   "source": [
    "## Load the data you receive into a Pandas DataFrame"
   ],
   "metadata": {}
  },
  {
   "cell_type": "code",
   "execution_count": 93,
   "source": [
    "df= pd.read_csv('./data-fish.csv')\n",
    "df"
   ],
   "outputs": [
    {
     "output_type": "execute_result",
     "data": {
      "text/plain": [
       "    Species  Weight  Length1  Length2  Length3   Height   Width\n",
       "0     Bream   242.0     23.2     25.4     30.0  11.5200  4.0200\n",
       "1     Bream   290.0     24.0     26.3     31.2  12.4800  4.3056\n",
       "2     Bream   340.0     23.9     26.5     31.1  12.3778  4.6961\n",
       "3     Bream   363.0     26.3     29.0     33.5  12.7300  4.4555\n",
       "4     Bream   430.0     26.5     29.0     34.0  12.4440  5.1340\n",
       "..      ...     ...      ...      ...      ...      ...     ...\n",
       "154   Smelt    12.2     11.5     12.2     13.4   2.0904  1.3936\n",
       "155   Smelt    13.4     11.7     12.4     13.5   2.4300  1.2690\n",
       "156   Smelt    12.2     12.1     13.0     13.8   2.2770  1.2558\n",
       "157   Smelt    19.7     13.2     14.3     15.2   2.8728  2.0672\n",
       "158   Smelt    19.9     13.8     15.0     16.2   2.9322  1.8792\n",
       "\n",
       "[159 rows x 7 columns]"
      ],
      "text/html": [
       "<div>\n",
       "<style scoped>\n",
       "    .dataframe tbody tr th:only-of-type {\n",
       "        vertical-align: middle;\n",
       "    }\n",
       "\n",
       "    .dataframe tbody tr th {\n",
       "        vertical-align: top;\n",
       "    }\n",
       "\n",
       "    .dataframe thead th {\n",
       "        text-align: right;\n",
       "    }\n",
       "</style>\n",
       "<table border=\"1\" class=\"dataframe\">\n",
       "  <thead>\n",
       "    <tr style=\"text-align: right;\">\n",
       "      <th></th>\n",
       "      <th>Species</th>\n",
       "      <th>Weight</th>\n",
       "      <th>Length1</th>\n",
       "      <th>Length2</th>\n",
       "      <th>Length3</th>\n",
       "      <th>Height</th>\n",
       "      <th>Width</th>\n",
       "    </tr>\n",
       "  </thead>\n",
       "  <tbody>\n",
       "    <tr>\n",
       "      <th>0</th>\n",
       "      <td>Bream</td>\n",
       "      <td>242.0</td>\n",
       "      <td>23.2</td>\n",
       "      <td>25.4</td>\n",
       "      <td>30.0</td>\n",
       "      <td>11.5200</td>\n",
       "      <td>4.0200</td>\n",
       "    </tr>\n",
       "    <tr>\n",
       "      <th>1</th>\n",
       "      <td>Bream</td>\n",
       "      <td>290.0</td>\n",
       "      <td>24.0</td>\n",
       "      <td>26.3</td>\n",
       "      <td>31.2</td>\n",
       "      <td>12.4800</td>\n",
       "      <td>4.3056</td>\n",
       "    </tr>\n",
       "    <tr>\n",
       "      <th>2</th>\n",
       "      <td>Bream</td>\n",
       "      <td>340.0</td>\n",
       "      <td>23.9</td>\n",
       "      <td>26.5</td>\n",
       "      <td>31.1</td>\n",
       "      <td>12.3778</td>\n",
       "      <td>4.6961</td>\n",
       "    </tr>\n",
       "    <tr>\n",
       "      <th>3</th>\n",
       "      <td>Bream</td>\n",
       "      <td>363.0</td>\n",
       "      <td>26.3</td>\n",
       "      <td>29.0</td>\n",
       "      <td>33.5</td>\n",
       "      <td>12.7300</td>\n",
       "      <td>4.4555</td>\n",
       "    </tr>\n",
       "    <tr>\n",
       "      <th>4</th>\n",
       "      <td>Bream</td>\n",
       "      <td>430.0</td>\n",
       "      <td>26.5</td>\n",
       "      <td>29.0</td>\n",
       "      <td>34.0</td>\n",
       "      <td>12.4440</td>\n",
       "      <td>5.1340</td>\n",
       "    </tr>\n",
       "    <tr>\n",
       "      <th>...</th>\n",
       "      <td>...</td>\n",
       "      <td>...</td>\n",
       "      <td>...</td>\n",
       "      <td>...</td>\n",
       "      <td>...</td>\n",
       "      <td>...</td>\n",
       "      <td>...</td>\n",
       "    </tr>\n",
       "    <tr>\n",
       "      <th>154</th>\n",
       "      <td>Smelt</td>\n",
       "      <td>12.2</td>\n",
       "      <td>11.5</td>\n",
       "      <td>12.2</td>\n",
       "      <td>13.4</td>\n",
       "      <td>2.0904</td>\n",
       "      <td>1.3936</td>\n",
       "    </tr>\n",
       "    <tr>\n",
       "      <th>155</th>\n",
       "      <td>Smelt</td>\n",
       "      <td>13.4</td>\n",
       "      <td>11.7</td>\n",
       "      <td>12.4</td>\n",
       "      <td>13.5</td>\n",
       "      <td>2.4300</td>\n",
       "      <td>1.2690</td>\n",
       "    </tr>\n",
       "    <tr>\n",
       "      <th>156</th>\n",
       "      <td>Smelt</td>\n",
       "      <td>12.2</td>\n",
       "      <td>12.1</td>\n",
       "      <td>13.0</td>\n",
       "      <td>13.8</td>\n",
       "      <td>2.2770</td>\n",
       "      <td>1.2558</td>\n",
       "    </tr>\n",
       "    <tr>\n",
       "      <th>157</th>\n",
       "      <td>Smelt</td>\n",
       "      <td>19.7</td>\n",
       "      <td>13.2</td>\n",
       "      <td>14.3</td>\n",
       "      <td>15.2</td>\n",
       "      <td>2.8728</td>\n",
       "      <td>2.0672</td>\n",
       "    </tr>\n",
       "    <tr>\n",
       "      <th>158</th>\n",
       "      <td>Smelt</td>\n",
       "      <td>19.9</td>\n",
       "      <td>13.8</td>\n",
       "      <td>15.0</td>\n",
       "      <td>16.2</td>\n",
       "      <td>2.9322</td>\n",
       "      <td>1.8792</td>\n",
       "    </tr>\n",
       "  </tbody>\n",
       "</table>\n",
       "<p>159 rows × 7 columns</p>\n",
       "</div>"
      ]
     },
     "metadata": {},
     "execution_count": 93
    }
   ],
   "metadata": {}
  },
  {
   "cell_type": "markdown",
   "source": [
    "## Show the first five rows of the data set."
   ],
   "metadata": {}
  },
  {
   "cell_type": "code",
   "execution_count": 94,
   "source": [
    "first_five_rows=df.head(5)\n",
    "first_five_rows"
   ],
   "outputs": [
    {
     "output_type": "execute_result",
     "data": {
      "text/plain": [
       "  Species  Weight  Length1  Length2  Length3   Height   Width\n",
       "0   Bream   242.0     23.2     25.4     30.0  11.5200  4.0200\n",
       "1   Bream   290.0     24.0     26.3     31.2  12.4800  4.3056\n",
       "2   Bream   340.0     23.9     26.5     31.1  12.3778  4.6961\n",
       "3   Bream   363.0     26.3     29.0     33.5  12.7300  4.4555\n",
       "4   Bream   430.0     26.5     29.0     34.0  12.4440  5.1340"
      ],
      "text/html": [
       "<div>\n",
       "<style scoped>\n",
       "    .dataframe tbody tr th:only-of-type {\n",
       "        vertical-align: middle;\n",
       "    }\n",
       "\n",
       "    .dataframe tbody tr th {\n",
       "        vertical-align: top;\n",
       "    }\n",
       "\n",
       "    .dataframe thead th {\n",
       "        text-align: right;\n",
       "    }\n",
       "</style>\n",
       "<table border=\"1\" class=\"dataframe\">\n",
       "  <thead>\n",
       "    <tr style=\"text-align: right;\">\n",
       "      <th></th>\n",
       "      <th>Species</th>\n",
       "      <th>Weight</th>\n",
       "      <th>Length1</th>\n",
       "      <th>Length2</th>\n",
       "      <th>Length3</th>\n",
       "      <th>Height</th>\n",
       "      <th>Width</th>\n",
       "    </tr>\n",
       "  </thead>\n",
       "  <tbody>\n",
       "    <tr>\n",
       "      <th>0</th>\n",
       "      <td>Bream</td>\n",
       "      <td>242.0</td>\n",
       "      <td>23.2</td>\n",
       "      <td>25.4</td>\n",
       "      <td>30.0</td>\n",
       "      <td>11.5200</td>\n",
       "      <td>4.0200</td>\n",
       "    </tr>\n",
       "    <tr>\n",
       "      <th>1</th>\n",
       "      <td>Bream</td>\n",
       "      <td>290.0</td>\n",
       "      <td>24.0</td>\n",
       "      <td>26.3</td>\n",
       "      <td>31.2</td>\n",
       "      <td>12.4800</td>\n",
       "      <td>4.3056</td>\n",
       "    </tr>\n",
       "    <tr>\n",
       "      <th>2</th>\n",
       "      <td>Bream</td>\n",
       "      <td>340.0</td>\n",
       "      <td>23.9</td>\n",
       "      <td>26.5</td>\n",
       "      <td>31.1</td>\n",
       "      <td>12.3778</td>\n",
       "      <td>4.6961</td>\n",
       "    </tr>\n",
       "    <tr>\n",
       "      <th>3</th>\n",
       "      <td>Bream</td>\n",
       "      <td>363.0</td>\n",
       "      <td>26.3</td>\n",
       "      <td>29.0</td>\n",
       "      <td>33.5</td>\n",
       "      <td>12.7300</td>\n",
       "      <td>4.4555</td>\n",
       "    </tr>\n",
       "    <tr>\n",
       "      <th>4</th>\n",
       "      <td>Bream</td>\n",
       "      <td>430.0</td>\n",
       "      <td>26.5</td>\n",
       "      <td>29.0</td>\n",
       "      <td>34.0</td>\n",
       "      <td>12.4440</td>\n",
       "      <td>5.1340</td>\n",
       "    </tr>\n",
       "  </tbody>\n",
       "</table>\n",
       "</div>"
      ]
     },
     "metadata": {},
     "execution_count": 94
    }
   ],
   "metadata": {}
  },
  {
   "cell_type": "markdown",
   "source": [
    "\n",
    "## Show the description and the info of the data set"
   ],
   "metadata": {}
  },
  {
   "cell_type": "code",
   "execution_count": 95,
   "source": [
    "\n",
    "df.describe()"
   ],
   "outputs": [
    {
     "output_type": "execute_result",
     "data": {
      "text/plain": [
       "            Weight     Length1     Length2     Length3      Height       Width\n",
       "count   159.000000  159.000000  159.000000  159.000000  159.000000  159.000000\n",
       "mean    398.326415   26.247170   28.415723   31.227044    8.970994    4.417486\n",
       "std     357.978317    9.996441   10.716328   11.610246    4.286208    1.685804\n",
       "min       0.000000    7.500000    8.400000    8.800000    1.728400    1.047600\n",
       "25%     120.000000   19.050000   21.000000   23.150000    5.944800    3.385650\n",
       "50%     273.000000   25.200000   27.300000   29.400000    7.786000    4.248500\n",
       "75%     650.000000   32.700000   35.500000   39.650000   12.365900    5.584500\n",
       "max    1650.000000   59.000000   63.400000   68.000000   18.957000    8.142000"
      ],
      "text/html": [
       "<div>\n",
       "<style scoped>\n",
       "    .dataframe tbody tr th:only-of-type {\n",
       "        vertical-align: middle;\n",
       "    }\n",
       "\n",
       "    .dataframe tbody tr th {\n",
       "        vertical-align: top;\n",
       "    }\n",
       "\n",
       "    .dataframe thead th {\n",
       "        text-align: right;\n",
       "    }\n",
       "</style>\n",
       "<table border=\"1\" class=\"dataframe\">\n",
       "  <thead>\n",
       "    <tr style=\"text-align: right;\">\n",
       "      <th></th>\n",
       "      <th>Weight</th>\n",
       "      <th>Length1</th>\n",
       "      <th>Length2</th>\n",
       "      <th>Length3</th>\n",
       "      <th>Height</th>\n",
       "      <th>Width</th>\n",
       "    </tr>\n",
       "  </thead>\n",
       "  <tbody>\n",
       "    <tr>\n",
       "      <th>count</th>\n",
       "      <td>159.000000</td>\n",
       "      <td>159.000000</td>\n",
       "      <td>159.000000</td>\n",
       "      <td>159.000000</td>\n",
       "      <td>159.000000</td>\n",
       "      <td>159.000000</td>\n",
       "    </tr>\n",
       "    <tr>\n",
       "      <th>mean</th>\n",
       "      <td>398.326415</td>\n",
       "      <td>26.247170</td>\n",
       "      <td>28.415723</td>\n",
       "      <td>31.227044</td>\n",
       "      <td>8.970994</td>\n",
       "      <td>4.417486</td>\n",
       "    </tr>\n",
       "    <tr>\n",
       "      <th>std</th>\n",
       "      <td>357.978317</td>\n",
       "      <td>9.996441</td>\n",
       "      <td>10.716328</td>\n",
       "      <td>11.610246</td>\n",
       "      <td>4.286208</td>\n",
       "      <td>1.685804</td>\n",
       "    </tr>\n",
       "    <tr>\n",
       "      <th>min</th>\n",
       "      <td>0.000000</td>\n",
       "      <td>7.500000</td>\n",
       "      <td>8.400000</td>\n",
       "      <td>8.800000</td>\n",
       "      <td>1.728400</td>\n",
       "      <td>1.047600</td>\n",
       "    </tr>\n",
       "    <tr>\n",
       "      <th>25%</th>\n",
       "      <td>120.000000</td>\n",
       "      <td>19.050000</td>\n",
       "      <td>21.000000</td>\n",
       "      <td>23.150000</td>\n",
       "      <td>5.944800</td>\n",
       "      <td>3.385650</td>\n",
       "    </tr>\n",
       "    <tr>\n",
       "      <th>50%</th>\n",
       "      <td>273.000000</td>\n",
       "      <td>25.200000</td>\n",
       "      <td>27.300000</td>\n",
       "      <td>29.400000</td>\n",
       "      <td>7.786000</td>\n",
       "      <td>4.248500</td>\n",
       "    </tr>\n",
       "    <tr>\n",
       "      <th>75%</th>\n",
       "      <td>650.000000</td>\n",
       "      <td>32.700000</td>\n",
       "      <td>35.500000</td>\n",
       "      <td>39.650000</td>\n",
       "      <td>12.365900</td>\n",
       "      <td>5.584500</td>\n",
       "    </tr>\n",
       "    <tr>\n",
       "      <th>max</th>\n",
       "      <td>1650.000000</td>\n",
       "      <td>59.000000</td>\n",
       "      <td>63.400000</td>\n",
       "      <td>68.000000</td>\n",
       "      <td>18.957000</td>\n",
       "      <td>8.142000</td>\n",
       "    </tr>\n",
       "  </tbody>\n",
       "</table>\n",
       "</div>"
      ]
     },
     "metadata": {},
     "execution_count": 95
    }
   ],
   "metadata": {}
  },
  {
   "cell_type": "code",
   "execution_count": 96,
   "source": [
    "df.info()"
   ],
   "outputs": [
    {
     "output_type": "stream",
     "name": "stdout",
     "text": [
      "<class 'pandas.core.frame.DataFrame'>\n",
      "RangeIndex: 159 entries, 0 to 158\n",
      "Data columns (total 7 columns):\n",
      " #   Column   Non-Null Count  Dtype  \n",
      "---  ------   --------------  -----  \n",
      " 0   Species  159 non-null    object \n",
      " 1   Weight   159 non-null    float64\n",
      " 2   Length1  159 non-null    float64\n",
      " 3   Length2  159 non-null    float64\n",
      " 4   Length3  159 non-null    float64\n",
      " 5   Height   159 non-null    float64\n",
      " 6   Width    159 non-null    float64\n",
      "dtypes: float64(6), object(1)\n",
      "memory usage: 8.8+ KB\n"
     ]
    }
   ],
   "metadata": {}
  },
  {
   "cell_type": "code",
   "execution_count": 97,
   "source": [
    "df.shape"
   ],
   "outputs": [
    {
     "output_type": "execute_result",
     "data": {
      "text/plain": [
       "(159, 7)"
      ]
     },
     "metadata": {},
     "execution_count": 97
    }
   ],
   "metadata": {}
  },
  {
   "cell_type": "code",
   "execution_count": 98,
   "source": [
    "\n",
    "y=df['Height'].values\n",
    "y"
   ],
   "outputs": [
    {
     "output_type": "execute_result",
     "data": {
      "text/plain": [
       "array([11.52  , 12.48  , 12.3778, 12.73  , 12.444 , 13.6024, 14.1795,\n",
       "       12.67  , 14.0049, 14.2266, 14.2628, 14.3714, 13.7592, 13.9129,\n",
       "       14.9544, 15.438 , 14.8604, 14.938 , 15.633 , 14.4738, 15.1285,\n",
       "       15.9936, 15.5227, 15.4686, 16.2405, 16.36  , 16.3618, 16.517 ,\n",
       "       16.8896, 18.957 , 18.0369, 18.084 , 18.7542, 18.6354, 17.6235,\n",
       "        4.1472,  5.2983,  5.5756,  5.6166,  6.216 ,  6.4752,  6.1677,\n",
       "        6.1146,  5.8045,  6.6339,  7.0334,  6.55  ,  6.4   ,  7.5344,\n",
       "        6.9153,  7.3968,  7.0866,  8.8768,  8.568 ,  9.485 ,  8.3804,\n",
       "        8.1454,  8.778 , 10.744 , 11.7612, 12.354 ,  6.8475,  6.5772,\n",
       "        7.4052,  8.3922,  8.8928,  8.5376,  9.396 ,  9.7364, 10.3458,\n",
       "       11.088 , 11.368 ,  2.112 ,  3.528 ,  3.824 ,  4.5924,  4.588 ,\n",
       "        5.2224,  5.1992,  5.6358,  5.1376,  5.082 ,  5.6925,  5.9175,\n",
       "        5.6925,  6.384 ,  6.11  ,  5.64  ,  6.11  ,  5.875 ,  5.5225,\n",
       "        5.856 ,  6.792 ,  5.9532,  5.2185,  6.275 ,  7.293 ,  6.375 ,\n",
       "        6.7334,  6.4395,  6.561 ,  7.168 ,  8.323 ,  7.1672,  7.0516,\n",
       "        7.2828,  7.8204,  7.5852,  7.6156, 10.03  , 10.2565, 11.4884,\n",
       "       10.881 , 10.6091, 10.835 , 10.5717, 11.1366, 11.1366, 12.4313,\n",
       "       11.9286, 11.73  , 12.3808, 11.135 , 12.8002, 11.9328, 12.5125,\n",
       "       12.604 , 12.4888,  5.568 ,  5.7078,  5.9364,  6.2884,  7.29  ,\n",
       "        6.396 ,  7.28  ,  6.825 ,  7.786 ,  6.96  ,  7.792 ,  7.68  ,\n",
       "        8.9262, 10.6863,  9.6   ,  9.6   , 10.812 ,  1.7388,  1.972 ,\n",
       "        1.7284,  2.196 ,  2.0832,  1.9782,  2.2139,  2.2139,  2.2044,\n",
       "        2.0904,  2.43  ,  2.277 ,  2.8728,  2.9322])"
      ]
     },
     "metadata": {},
     "execution_count": 98
    }
   ],
   "metadata": {}
  },
  {
   "cell_type": "code",
   "execution_count": 99,
   "source": [
    "\n",
    "X=df['Width'].values\n",
    "X"
   ],
   "outputs": [
    {
     "output_type": "execute_result",
     "data": {
      "text/plain": [
       "array([4.02  , 4.3056, 4.6961, 4.4555, 5.134 , 4.9274, 5.2785, 4.69  ,\n",
       "       4.8438, 4.9594, 5.1042, 4.8146, 4.368 , 5.0728, 5.1708, 5.58  ,\n",
       "       5.2854, 5.1975, 5.1338, 5.7276, 5.5695, 5.3704, 5.2801, 6.1306,\n",
       "       5.589 , 6.0532, 6.09  , 5.8515, 6.1984, 6.603 , 6.3063, 6.292 ,\n",
       "       6.7497, 6.7473, 6.3705, 2.268 , 2.8217, 2.9044, 3.1746, 3.5742,\n",
       "       3.3516, 3.3957, 3.2943, 3.7544, 3.5478, 3.8203, 3.325 , 3.8   ,\n",
       "       3.8352, 3.6312, 4.1272, 3.906 , 4.4968, 4.7736, 5.355 , 4.2476,\n",
       "       4.2485, 4.6816, 6.562 , 6.5736, 6.525 , 2.3265, 2.3142, 2.673 ,\n",
       "       2.9181, 3.2928, 3.2944, 3.4104, 3.1571, 3.6636, 4.144 , 4.234 ,\n",
       "       1.408 , 1.9992, 2.432 , 2.6316, 2.9415, 3.3216, 3.1234, 3.0502,\n",
       "       3.0368, 2.772 , 3.555 , 3.3075, 3.6675, 3.534 , 3.4075, 3.525 ,\n",
       "       3.525 , 3.525 , 3.995 , 3.624 , 3.624 , 3.63  , 3.626 , 3.725 ,\n",
       "       3.723 , 3.825 , 4.1658, 3.6835, 4.239 , 4.144 , 5.1373, 4.335 ,\n",
       "       4.335 , 4.5662, 4.2042, 4.6354, 4.7716, 6.018 , 6.3875, 7.7957,\n",
       "       6.864 , 6.7408, 6.2646, 6.3666, 7.4934, 6.003 , 7.3514, 7.1064,\n",
       "       7.225 , 7.4624, 6.63  , 6.8684, 7.2772, 7.4165, 8.142 , 7.5958,\n",
       "       3.3756, 4.158 , 4.3844, 4.0198, 4.5765, 3.977 , 4.3225, 4.459 ,\n",
       "       5.1296, 4.896 , 4.87  , 5.376 , 6.1712, 6.9849, 6.144 , 6.144 ,\n",
       "       7.48  , 1.0476, 1.16  , 1.1484, 1.38  , 1.2772, 1.2852, 1.2838,\n",
       "       1.1659, 1.1484, 1.3936, 1.269 , 1.2558, 2.0672, 1.8792])"
      ]
     },
     "metadata": {},
     "execution_count": 99
    }
   ],
   "metadata": {}
  },
  {
   "cell_type": "code",
   "execution_count": 100,
   "source": [
    "X=X.reshape(-1,1)\n",
    "X"
   ],
   "outputs": [
    {
     "output_type": "execute_result",
     "data": {
      "text/plain": [
       "array([[4.02  ],\n",
       "       [4.3056],\n",
       "       [4.6961],\n",
       "       [4.4555],\n",
       "       [5.134 ],\n",
       "       [4.9274],\n",
       "       [5.2785],\n",
       "       [4.69  ],\n",
       "       [4.8438],\n",
       "       [4.9594],\n",
       "       [5.1042],\n",
       "       [4.8146],\n",
       "       [4.368 ],\n",
       "       [5.0728],\n",
       "       [5.1708],\n",
       "       [5.58  ],\n",
       "       [5.2854],\n",
       "       [5.1975],\n",
       "       [5.1338],\n",
       "       [5.7276],\n",
       "       [5.5695],\n",
       "       [5.3704],\n",
       "       [5.2801],\n",
       "       [6.1306],\n",
       "       [5.589 ],\n",
       "       [6.0532],\n",
       "       [6.09  ],\n",
       "       [5.8515],\n",
       "       [6.1984],\n",
       "       [6.603 ],\n",
       "       [6.3063],\n",
       "       [6.292 ],\n",
       "       [6.7497],\n",
       "       [6.7473],\n",
       "       [6.3705],\n",
       "       [2.268 ],\n",
       "       [2.8217],\n",
       "       [2.9044],\n",
       "       [3.1746],\n",
       "       [3.5742],\n",
       "       [3.3516],\n",
       "       [3.3957],\n",
       "       [3.2943],\n",
       "       [3.7544],\n",
       "       [3.5478],\n",
       "       [3.8203],\n",
       "       [3.325 ],\n",
       "       [3.8   ],\n",
       "       [3.8352],\n",
       "       [3.6312],\n",
       "       [4.1272],\n",
       "       [3.906 ],\n",
       "       [4.4968],\n",
       "       [4.7736],\n",
       "       [5.355 ],\n",
       "       [4.2476],\n",
       "       [4.2485],\n",
       "       [4.6816],\n",
       "       [6.562 ],\n",
       "       [6.5736],\n",
       "       [6.525 ],\n",
       "       [2.3265],\n",
       "       [2.3142],\n",
       "       [2.673 ],\n",
       "       [2.9181],\n",
       "       [3.2928],\n",
       "       [3.2944],\n",
       "       [3.4104],\n",
       "       [3.1571],\n",
       "       [3.6636],\n",
       "       [4.144 ],\n",
       "       [4.234 ],\n",
       "       [1.408 ],\n",
       "       [1.9992],\n",
       "       [2.432 ],\n",
       "       [2.6316],\n",
       "       [2.9415],\n",
       "       [3.3216],\n",
       "       [3.1234],\n",
       "       [3.0502],\n",
       "       [3.0368],\n",
       "       [2.772 ],\n",
       "       [3.555 ],\n",
       "       [3.3075],\n",
       "       [3.6675],\n",
       "       [3.534 ],\n",
       "       [3.4075],\n",
       "       [3.525 ],\n",
       "       [3.525 ],\n",
       "       [3.525 ],\n",
       "       [3.995 ],\n",
       "       [3.624 ],\n",
       "       [3.624 ],\n",
       "       [3.63  ],\n",
       "       [3.626 ],\n",
       "       [3.725 ],\n",
       "       [3.723 ],\n",
       "       [3.825 ],\n",
       "       [4.1658],\n",
       "       [3.6835],\n",
       "       [4.239 ],\n",
       "       [4.144 ],\n",
       "       [5.1373],\n",
       "       [4.335 ],\n",
       "       [4.335 ],\n",
       "       [4.5662],\n",
       "       [4.2042],\n",
       "       [4.6354],\n",
       "       [4.7716],\n",
       "       [6.018 ],\n",
       "       [6.3875],\n",
       "       [7.7957],\n",
       "       [6.864 ],\n",
       "       [6.7408],\n",
       "       [6.2646],\n",
       "       [6.3666],\n",
       "       [7.4934],\n",
       "       [6.003 ],\n",
       "       [7.3514],\n",
       "       [7.1064],\n",
       "       [7.225 ],\n",
       "       [7.4624],\n",
       "       [6.63  ],\n",
       "       [6.8684],\n",
       "       [7.2772],\n",
       "       [7.4165],\n",
       "       [8.142 ],\n",
       "       [7.5958],\n",
       "       [3.3756],\n",
       "       [4.158 ],\n",
       "       [4.3844],\n",
       "       [4.0198],\n",
       "       [4.5765],\n",
       "       [3.977 ],\n",
       "       [4.3225],\n",
       "       [4.459 ],\n",
       "       [5.1296],\n",
       "       [4.896 ],\n",
       "       [4.87  ],\n",
       "       [5.376 ],\n",
       "       [6.1712],\n",
       "       [6.9849],\n",
       "       [6.144 ],\n",
       "       [6.144 ],\n",
       "       [7.48  ],\n",
       "       [1.0476],\n",
       "       [1.16  ],\n",
       "       [1.1484],\n",
       "       [1.38  ],\n",
       "       [1.2772],\n",
       "       [1.2852],\n",
       "       [1.2838],\n",
       "       [1.1659],\n",
       "       [1.1484],\n",
       "       [1.3936],\n",
       "       [1.269 ],\n",
       "       [1.2558],\n",
       "       [2.0672],\n",
       "       [1.8792]])"
      ]
     },
     "metadata": {},
     "execution_count": 100
    }
   ],
   "metadata": {}
  },
  {
   "cell_type": "code",
   "execution_count": 101,
   "source": [
    "\n",
    "x_train, x_test, y_train, y_test = train_test_split(X,y,test_size=0.2,random_state=10)\n",
    "plt.scatter(x_train,y_train , color = 'green')\n",
    "plt.title('training data')\n",
    "plt.xlabel('width')\n",
    "plt.ylabel('Height')\n",
    "plt.show()"
   ],
   "outputs": [
    {
     "output_type": "display_data",
     "data": {
      "text/plain": [
       "<Figure size 432x288 with 1 Axes>"
      ],
      "image/svg+xml": "<?xml version=\"1.0\" encoding=\"utf-8\" standalone=\"no\"?>\n<!DOCTYPE svg PUBLIC \"-//W3C//DTD SVG 1.1//EN\"\n  \"http://www.w3.org/Graphics/SVG/1.1/DTD/svg11.dtd\">\n<svg height=\"277.314375pt\" version=\"1.1\" viewBox=\"0 0 392.14375 277.314375\" width=\"392.14375pt\" xmlns=\"http://www.w3.org/2000/svg\" xmlns:xlink=\"http://www.w3.org/1999/xlink\">\n <metadata>\n  <rdf:RDF xmlns:cc=\"http://creativecommons.org/ns#\" xmlns:dc=\"http://purl.org/dc/elements/1.1/\" xmlns:rdf=\"http://www.w3.org/1999/02/22-rdf-syntax-ns#\">\n   <cc:Work>\n    <dc:type rdf:resource=\"http://purl.org/dc/dcmitype/StillImage\"/>\n    <dc:date>2021-08-10T19:16:34.733631</dc:date>\n    <dc:format>image/svg+xml</dc:format>\n    <dc:creator>\n     <cc:Agent>\n      <dc:title>Matplotlib v3.4.2, https://matplotlib.org/</dc:title>\n     </cc:Agent>\n    </dc:creator>\n   </cc:Work>\n  </rdf:RDF>\n </metadata>\n <defs>\n  <style type=\"text/css\">*{stroke-linecap:butt;stroke-linejoin:round;}</style>\n </defs>\n <g id=\"figure_1\">\n  <g id=\"patch_1\">\n   <path d=\"M 0 277.314375 \nL 392.14375 277.314375 \nL 392.14375 0 \nL 0 0 \nz\n\" style=\"fill:none;\"/>\n  </g>\n  <g id=\"axes_1\">\n   <g id=\"patch_2\">\n    <path d=\"M 50.14375 239.758125 \nL 384.94375 239.758125 \nL 384.94375 22.318125 \nL 50.14375 22.318125 \nz\n\" style=\"fill:#ffffff;\"/>\n   </g>\n   <g id=\"PathCollection_1\">\n    <defs>\n     <path d=\"M 0 3 \nC 0.795609 3 1.55874 2.683901 2.12132 2.12132 \nC 2.683901 1.55874 3 0.795609 3 0 \nC 3 -0.795609 2.683901 -1.55874 2.12132 -2.12132 \nC 1.55874 -2.683901 0.795609 -3 0 -3 \nC -0.795609 -3 -1.55874 -2.683901 -2.12132 -2.12132 \nC -2.683901 -1.55874 -3 -0.795609 -3 0 \nC -3 0.795609 -2.683901 1.55874 -2.12132 2.12132 \nC -1.55874 2.683901 -0.795609 3 0 3 \nz\n\" id=\"m5c07f625c1\" style=\"stroke:#008000;\"/>\n    </defs>\n    <g clip-path=\"url(#pbecef8b408)\">\n     <use style=\"fill:#008000;stroke:#008000;\" x=\"332.623957\" xlink:href=\"#m5c07f625c1\" y=\"112.842756\"/>\n     <use style=\"fill:#008000;stroke:#008000;\" x=\"176.203425\" xlink:href=\"#m5c07f625c1\" y=\"170.445926\"/>\n     <use style=\"fill:#008000;stroke:#008000;\" x=\"155.863608\" xlink:href=\"#m5c07f625c1\" y=\"138.058422\"/>\n     <use style=\"fill:#008000;stroke:#008000;\" x=\"221.889718\" xlink:href=\"#m5c07f625c1\" y=\"107.733954\"/>\n     <use style=\"fill:#008000;stroke:#008000;\" x=\"302.43814\" xlink:href=\"#m5c07f625c1\" y=\"114.812801\"/>\n     <use style=\"fill:#008000;stroke:#008000;\" x=\"230.465819\" xlink:href=\"#m5c07f625c1\" y=\"169.93275\"/>\n     <use style=\"fill:#008000;stroke:#008000;\" x=\"202.648191\" xlink:href=\"#m5c07f625c1\" y=\"153.625915\"/>\n     <use style=\"fill:#008000;stroke:#008000;\" x=\"70.437233\" xlink:href=\"#m5c07f625c1\" y=\"224.420126\"/>\n     <use style=\"fill:#008000;stroke:#008000;\" x=\"80.823797\" xlink:href=\"#m5c07f625c1\" y=\"225.589984\"/>\n     <use style=\"fill:#008000;stroke:#008000;\" x=\"346.29252\" xlink:href=\"#m5c07f625c1\" y=\"106.459624\"/>\n     <use style=\"fill:#008000;stroke:#008000;\" x=\"335.807282\" xlink:href=\"#m5c07f625c1\" y=\"107.11975\"/>\n     <use style=\"fill:#008000;stroke:#008000;\" x=\"300.353105\" xlink:href=\"#m5c07f625c1\" y=\"108.007189\"/>\n     <use style=\"fill:#008000;stroke:#008000;\" x=\"206.397822\" xlink:href=\"#m5c07f625c1\" y=\"167.554\"/>\n     <use style=\"fill:#008000;stroke:#008000;\" x=\"213.339358\" xlink:href=\"#m5c07f625c1\" y=\"147.927019\"/>\n     <use style=\"fill:#008000;stroke:#008000;\" x=\"208.517178\" xlink:href=\"#m5c07f625c1\" y=\"181.684141\"/>\n     <use style=\"fill:#008000;stroke:#008000;\" x=\"172.934296\" xlink:href=\"#m5c07f625c1\" y=\"184.484224\"/>\n     <use style=\"fill:#008000;stroke:#008000;\" x=\"281.690755\" xlink:href=\"#m5c07f625c1\" y=\"61.995832\"/>\n     <use style=\"fill:#008000;stroke:#008000;\" x=\"139.342065\" xlink:href=\"#m5c07f625c1\" y=\"191.49304\"/>\n     <use style=\"fill:#008000;stroke:#008000;\" x=\"161.754046\" xlink:href=\"#m5c07f625c1\" y=\"151.821188\"/>\n     <use style=\"fill:#008000;stroke:#008000;\" x=\"166.100015\" xlink:href=\"#m5c07f625c1\" y=\"179.028713\"/>\n     <use style=\"fill:#008000;stroke:#008000;\" x=\"191.811157\" xlink:href=\"#m5c07f625c1\" y=\"186.435901\"/>\n     <use style=\"fill:#008000;stroke:#008000;\" x=\"309.993175\" xlink:href=\"#m5c07f625c1\" y=\"34.529997\"/>\n     <use style=\"fill:#008000;stroke:#008000;\" x=\"120.229243\" xlink:href=\"#m5c07f625c1\" y=\"171.224301\"/>\n     <use style=\"fill:#008000;stroke:#008000;\" x=\"154.417812\" xlink:href=\"#m5c07f625c1\" y=\"190.147531\"/>\n     <use style=\"fill:#008000;stroke:#008000;\" x=\"184.955424\" xlink:href=\"#m5c07f625c1\" y=\"163.338378\"/>\n     <use style=\"fill:#008000;stroke:#008000;\" x=\"216.316754\" xlink:href=\"#m5c07f625c1\" y=\"166.22686\"/>\n     <use style=\"fill:#008000;stroke:#008000;\" x=\"280.111963\" xlink:href=\"#m5c07f625c1\" y=\"62.016497\"/>\n     <use style=\"fill:#008000;stroke:#008000;\" x=\"225.21462\" xlink:href=\"#m5c07f625c1\" y=\"151.472182\"/>\n     <use style=\"fill:#008000;stroke:#008000;\" x=\"146.613946\" xlink:href=\"#m5c07f625c1\" y=\"197.164383\"/>\n     <use style=\"fill:#008000;stroke:#008000;\" x=\"200.786246\" xlink:href=\"#m5c07f625c1\" y=\"160.054969\"/>\n     <use style=\"fill:#008000;stroke:#008000;\" x=\"74.860425\" xlink:href=\"#m5c07f625c1\" y=\"221.9392\"/>\n     <use style=\"fill:#008000;stroke:#008000;\" x=\"192.875125\" xlink:href=\"#m5c07f625c1\" y=\"177.643022\"/>\n     <use style=\"fill:#008000;stroke:#008000;\" x=\"187.992883\" xlink:href=\"#m5c07f625c1\" y=\"168.479325\"/>\n     <use style=\"fill:#008000;stroke:#008000;\" x=\"242.255277\" xlink:href=\"#m5c07f625c1\" y=\"78.153421\"/>\n     <use style=\"fill:#008000;stroke:#008000;\" x=\"70.184112\" xlink:href=\"#m5c07f625c1\" y=\"227.197247\"/>\n     <use style=\"fill:#008000;stroke:#008000;\" x=\"303.699458\" xlink:href=\"#m5c07f625c1\" y=\"32.201761\"/>\n     <use style=\"fill:#008000;stroke:#008000;\" x=\"211.567508\" xlink:href=\"#m5c07f625c1\" y=\"103.690539\"/>\n     <use style=\"fill:#008000;stroke:#008000;\" x=\"325.296303\" xlink:href=\"#m5c07f625c1\" y=\"112.890974\"/>\n     <use style=\"fill:#008000;stroke:#008000;\" x=\"354.868621\" xlink:href=\"#m5c07f625c1\" y=\"117.944669\"/>\n     <use style=\"fill:#008000;stroke:#008000;\" x=\"75.212221\" xlink:href=\"#m5c07f625c1\" y=\"225.920621\"/>\n     <use style=\"fill:#008000;stroke:#008000;\" x=\"145.022284\" xlink:href=\"#m5c07f625c1\" y=\"185.826288\"/>\n     <use style=\"fill:#008000;stroke:#008000;\" x=\"75.555437\" xlink:href=\"#m5c07f625c1\" y=\"227.126068\"/>\n     <use style=\"fill:#008000;stroke:#008000;\" x=\"79.622542\" xlink:href=\"#m5c07f625c1\" y=\"224.625626\"/>\n     <use style=\"fill:#008000;stroke:#008000;\" x=\"184.316185\" xlink:href=\"#m5c07f625c1\" y=\"169.090085\"/>\n     <use style=\"fill:#008000;stroke:#008000;\" x=\"175.894531\" xlink:href=\"#m5c07f625c1\" y=\"182.60717\"/>\n     <use style=\"fill:#008000;stroke:#008000;\" x=\"294.454086\" xlink:href=\"#m5c07f625c1\" y=\"132.087438\"/>\n     <use style=\"fill:#008000;stroke:#008000;\" x=\"161.749756\" xlink:href=\"#m5c07f625c1\" y=\"179.638325\"/>\n     <use style=\"fill:#008000;stroke:#008000;\" x=\"151.277389\" xlink:href=\"#m5c07f625c1\" y=\"185.135165\"/>\n     <use style=\"fill:#008000;stroke:#008000;\" x=\"191.038922\" xlink:href=\"#m5c07f625c1\" y=\"176.407725\"/>\n     <use style=\"fill:#008000;stroke:#008000;\" x=\"341.324473\" xlink:href=\"#m5c07f625c1\" y=\"125.710047\"/>\n     <use style=\"fill:#008000;stroke:#008000;\" x=\"207.813586\" xlink:href=\"#m5c07f625c1\" y=\"91.874857\"/>\n     <use style=\"fill:#008000;stroke:#008000;\" x=\"320.083715\" xlink:href=\"#m5c07f625c1\" y=\"127.15314\"/>\n     <use style=\"fill:#008000;stroke:#008000;\" x=\"330.384475\" xlink:href=\"#m5c07f625c1\" y=\"115.170992\"/>\n     <use style=\"fill:#008000;stroke:#008000;\" x=\"246.875817\" xlink:href=\"#m5c07f625c1\" y=\"87.049623\"/>\n     <use style=\"fill:#008000;stroke:#008000;\" x=\"216.758644\" xlink:href=\"#m5c07f625c1\" y=\"166.144201\"/>\n     <use style=\"fill:#008000;stroke:#008000;\" x=\"340.569399\" xlink:href=\"#m5c07f625c1\" y=\"107.699513\"/>\n     <use style=\"fill:#008000;stroke:#008000;\" x=\"314.896868\" xlink:href=\"#m5c07f625c1\" y=\"124.917896\"/>\n     <use style=\"fill:#008000;stroke:#008000;\" x=\"293.724753\" xlink:href=\"#m5c07f625c1\" y=\"47.510945\"/>\n     <use style=\"fill:#008000;stroke:#008000;\" x=\"240.487716\" xlink:href=\"#m5c07f625c1\" y=\"160.449896\"/>\n     <use style=\"fill:#008000;stroke:#008000;\" x=\"197.482795\" xlink:href=\"#m5c07f625c1\" y=\"164.918088\"/>\n     <use style=\"fill:#008000;stroke:#008000;\" x=\"285.174393\" xlink:href=\"#m5c07f625c1\" y=\"147.359884\"/>\n     <use style=\"fill:#008000;stroke:#008000;\" x=\"199.138811\" xlink:href=\"#m5c07f625c1\" y=\"172.534221\"/>\n     <use style=\"fill:#008000;stroke:#008000;\" x=\"278.601814\" xlink:href=\"#m5c07f625c1\" y=\"134.687761\"/>\n     <use style=\"fill:#008000;stroke:#008000;\" x=\"240.676485\" xlink:href=\"#m5c07f625c1\" y=\"106.973949\"/>\n     <use style=\"fill:#008000;stroke:#008000;\" x=\"231.812941\" xlink:href=\"#m5c07f625c1\" y=\"93.674992\"/>\n     <use style=\"fill:#008000;stroke:#008000;\" x=\"172.625402\" xlink:href=\"#m5c07f625c1\" y=\"173.676526\"/>\n     <use style=\"fill:#008000;stroke:#008000;\" x=\"225.128816\" xlink:href=\"#m5c07f625c1\" y=\"162.406165\"/>\n     <use style=\"fill:#008000;stroke:#008000;\" x=\"180.141825\" xlink:href=\"#m5c07f625c1\" y=\"166.109759\"/>\n     <use style=\"fill:#008000;stroke:#008000;\" x=\"177.760766\" xlink:href=\"#m5c07f625c1\" y=\"184.484224\"/>\n     <use style=\"fill:#008000;stroke:#008000;\" x=\"229.350368\" xlink:href=\"#m5c07f625c1\" y=\"160.381014\"/>\n     <use style=\"fill:#008000;stroke:#008000;\" x=\"341.89936\" xlink:href=\"#m5c07f625c1\" y=\"121.983492\"/>\n     <use style=\"fill:#008000;stroke:#008000;\" x=\"133.31863\" xlink:href=\"#m5c07f625c1\" y=\"197.113869\"/>\n     <use style=\"fill:#008000;stroke:#008000;\" x=\"221.628016\" xlink:href=\"#m5c07f625c1\" y=\"104.379366\"/>\n     <use style=\"fill:#008000;stroke:#008000;\" x=\"163.066846\" xlink:href=\"#m5c07f625c1\" y=\"174.639736\"/>\n     <use style=\"fill:#008000;stroke:#008000;\" x=\"243.400759\" xlink:href=\"#m5c07f625c1\" y=\"78.3417\"/>\n     <use style=\"fill:#008000;stroke:#008000;\" x=\"277.958284\" xlink:href=\"#m5c07f625c1\" y=\"121.983492\"/>\n     <use style=\"fill:#008000;stroke:#008000;\" x=\"289.181436\" xlink:href=\"#m5c07f625c1\" y=\"125.445997\"/>\n     <use style=\"fill:#008000;stroke:#008000;\" x=\"202.064724\" xlink:href=\"#m5c07f625c1\" y=\"119.326915\"/>\n     <use style=\"fill:#008000;stroke:#008000;\" x=\"150.702503\" xlink:href=\"#m5c07f625c1\" y=\"190.854727\"/>\n     <use style=\"fill:#008000;stroke:#008000;\" x=\"69.686449\" xlink:href=\"#m5c07f625c1\" y=\"224.52919\"/>\n     <use style=\"fill:#008000;stroke:#008000;\" x=\"74.294119\" xlink:href=\"#m5c07f625c1\" y=\"223.695709\"/>\n     <use style=\"fill:#008000;stroke:#008000;\" x=\"101.039198\" xlink:href=\"#m5c07f625c1\" y=\"216.173717\"/>\n     <use style=\"fill:#008000;stroke:#008000;\" x=\"284.00746\" xlink:href=\"#m5c07f625c1\" y=\"139.624355\"/>\n     <use style=\"fill:#008000;stroke:#008000;\" x=\"124.7554\" xlink:href=\"#m5c07f625c1\" y=\"205.935449\"/>\n     <use style=\"fill:#008000;stroke:#008000;\" x=\"286.341327\" xlink:href=\"#m5c07f625c1\" y=\"55.936449\"/>\n     <use style=\"fill:#008000;stroke:#008000;\" x=\"226.9736\" xlink:href=\"#m5c07f625c1\" y=\"84.846524\"/>\n     <use style=\"fill:#008000;stroke:#008000;\" x=\"175.980335\" xlink:href=\"#m5c07f625c1\" y=\"189.925958\"/>\n     <use style=\"fill:#008000;stroke:#008000;\" x=\"283.432574\" xlink:href=\"#m5c07f625c1\" y=\"72.250172\"/>\n     <use style=\"fill:#008000;stroke:#008000;\" x=\"246.94446\" xlink:href=\"#m5c07f625c1\" y=\"71.629079\"/>\n     <use style=\"fill:#008000;stroke:#008000;\" x=\"211.717664\" xlink:href=\"#m5c07f625c1\" y=\"171.482611\"/>\n     <use style=\"fill:#008000;stroke:#008000;\" x=\"176.151943\" xlink:href=\"#m5c07f625c1\" y=\"181.49127\"/>\n     <use style=\"fill:#008000;stroke:#008000;\" x=\"240.667904\" xlink:href=\"#m5c07f625c1\" y=\"70.362785\"/>\n     <use style=\"fill:#008000;stroke:#008000;\" x=\"271.458638\" xlink:href=\"#m5c07f625c1\" y=\"60.214065\"/>\n     <use style=\"fill:#008000;stroke:#008000;\" x=\"141.474292\" xlink:href=\"#m5c07f625c1\" y=\"189.009818\"/>\n     <use style=\"fill:#008000;stroke:#008000;\" x=\"221.26764\" xlink:href=\"#m5c07f625c1\" y=\"149.061287\"/>\n     <use style=\"fill:#008000;stroke:#008000;\" x=\"290.35695\" xlink:href=\"#m5c07f625c1\" y=\"42.224196\"/>\n     <use style=\"fill:#008000;stroke:#008000;\" x=\"161.685403\" xlink:href=\"#m5c07f625c1\" y=\"147.743331\"/>\n     <use style=\"fill:#008000;stroke:#008000;\" x=\"171.647238\" xlink:href=\"#m5c07f625c1\" y=\"182.389041\"/>\n     <use style=\"fill:#008000;stroke:#008000;\" x=\"290.970448\" xlink:href=\"#m5c07f625c1\" y=\"42.764926\"/>\n     <use style=\"fill:#008000;stroke:#008000;\" x=\"166.606258\" xlink:href=\"#m5c07f625c1\" y=\"179.691135\"/>\n     <use style=\"fill:#008000;stroke:#008000;\" x=\"175.894531\" xlink:href=\"#m5c07f625c1\" y=\"171.861466\"/>\n     <use style=\"fill:#008000;stroke:#008000;\" x=\"369.725568\" xlink:href=\"#m5c07f625c1\" y=\"105.137076\"/>\n     <use style=\"fill:#008000;stroke:#008000;\" x=\"238.050885\" xlink:href=\"#m5c07f625c1\" y=\"90.110312\"/>\n     <use style=\"fill:#008000;stroke:#008000;\" x=\"162.92098\" xlink:href=\"#m5c07f625c1\" y=\"189.881184\"/>\n     <use style=\"fill:#008000;stroke:#008000;\" x=\"284.00746\" xlink:href=\"#m5c07f625c1\" y=\"139.624355\"/>\n     <use style=\"fill:#008000;stroke:#008000;\" x=\"65.361932\" xlink:href=\"#m5c07f625c1\" y=\"229.874489\"/>\n     <use style=\"fill:#008000;stroke:#008000;\" x=\"309.89021\" xlink:href=\"#m5c07f625c1\" y=\"35.893875\"/>\n     <use style=\"fill:#008000;stroke:#008000;\" x=\"119.701549\" xlink:href=\"#m5c07f625c1\" y=\"174.327467\"/>\n     <use style=\"fill:#008000;stroke:#008000;\" x=\"304.857811\" xlink:href=\"#m5c07f625c1\" y=\"122.001861\"/>\n     <use style=\"fill:#008000;stroke:#008000;\" x=\"219.285569\" xlink:href=\"#m5c07f625c1\" y=\"162.755171\"/>\n     <use style=\"fill:#008000;stroke:#008000;\" x=\"171.647238\" xlink:href=\"#m5c07f625c1\" y=\"179.691135\"/>\n     <use style=\"fill:#008000;stroke:#008000;\" x=\"250.157817\" xlink:href=\"#m5c07f625c1\" y=\"140.944607\"/>\n     <use style=\"fill:#008000;stroke:#008000;\" x=\"251.058758\" xlink:href=\"#m5c07f625c1\" y=\"161.666824\"/>\n     <use style=\"fill:#008000;stroke:#008000;\" x=\"202.279234\" xlink:href=\"#m5c07f625c1\" y=\"174.513451\"/>\n     <use style=\"fill:#008000;stroke:#008000;\" x=\"247.171841\" xlink:href=\"#m5c07f625c1\" y=\"79.232583\"/>\n     <use style=\"fill:#008000;stroke:#008000;\" x=\"293.557436\" xlink:href=\"#m5c07f625c1\" y=\"128.4688\"/>\n     <use style=\"fill:#008000;stroke:#008000;\" x=\"164.208038\" xlink:href=\"#m5c07f625c1\" y=\"175.498473\"/>\n     <use style=\"fill:#008000;stroke:#008000;\" x=\"192.883706\" xlink:href=\"#m5c07f625c1\" y=\"117.581887\"/>\n     <use style=\"fill:#008000;stroke:#008000;\" x=\"106.187433\" xlink:href=\"#m5c07f625c1\" y=\"209.333663\"/>\n     <use style=\"fill:#008000;stroke:#008000;\" x=\"228.226337\" xlink:href=\"#m5c07f625c1\" y=\"89.05411\"/>\n     <use style=\"fill:#008000;stroke:#008000;\" x=\"80.206009\" xlink:href=\"#m5c07f625c1\" y=\"225.837962\"/>\n     <use style=\"fill:#008000;stroke:#008000;\" x=\"315.085637\" xlink:href=\"#m5c07f625c1\" y=\"102.884611\"/>\n     <use style=\"fill:#008000;stroke:#008000;\" x=\"309.611347\" xlink:href=\"#m5c07f625c1\" y=\"128.039431\"/>\n     <use style=\"fill:#008000;stroke:#008000;\" x=\"145.61004\" xlink:href=\"#m5c07f625c1\" y=\"153.490446\"/>\n     <use style=\"fill:#008000;stroke:#008000;\" x=\"259.810757\" xlink:href=\"#m5c07f625c1\" y=\"72.601474\"/>\n     <use style=\"fill:#008000;stroke:#008000;\" x=\"338.600199\" xlink:href=\"#m5c07f625c1\" y=\"106.187538\"/>\n     <use style=\"fill:#008000;stroke:#008000;\" x=\"233.185803\" xlink:href=\"#m5c07f625c1\" y=\"86.508894\"/>\n    </g>\n   </g>\n   <g id=\"matplotlib.axis_1\">\n    <g id=\"xtick_1\">\n     <g id=\"line2d_1\">\n      <defs>\n       <path d=\"M 0 0 \nL 0 3.5 \n\" id=\"me969f1361c\" style=\"stroke:#000000;stroke-width:0.8;\"/>\n      </defs>\n      <g>\n       <use style=\"stroke:#000000;stroke-width:0.8;\" x=\"63.319799\" xlink:href=\"#me969f1361c\" y=\"239.758125\"/>\n      </g>\n     </g>\n     <g id=\"text_1\">\n      <!-- 1 -->\n      <g transform=\"translate(60.138549 254.356562)scale(0.1 -0.1)\">\n       <defs>\n        <path d=\"M 794 531 \nL 1825 531 \nL 1825 4091 \nL 703 3866 \nL 703 4441 \nL 1819 4666 \nL 2450 4666 \nL 2450 531 \nL 3481 531 \nL 3481 0 \nL 794 0 \nL 794 531 \nz\n\" id=\"DejaVuSans-31\" transform=\"scale(0.015625)\"/>\n       </defs>\n       <use xlink:href=\"#DejaVuSans-31\"/>\n      </g>\n     </g>\n    </g>\n    <g id=\"xtick_2\">\n     <g id=\"line2d_2\">\n      <g>\n       <use style=\"stroke:#000000;stroke-width:0.8;\" x=\"106.221755\" xlink:href=\"#me969f1361c\" y=\"239.758125\"/>\n      </g>\n     </g>\n     <g id=\"text_2\">\n      <!-- 2 -->\n      <g transform=\"translate(103.040505 254.356562)scale(0.1 -0.1)\">\n       <defs>\n        <path d=\"M 1228 531 \nL 3431 531 \nL 3431 0 \nL 469 0 \nL 469 531 \nQ 828 903 1448 1529 \nQ 2069 2156 2228 2338 \nQ 2531 2678 2651 2914 \nQ 2772 3150 2772 3378 \nQ 2772 3750 2511 3984 \nQ 2250 4219 1831 4219 \nQ 1534 4219 1204 4116 \nQ 875 4013 500 3803 \nL 500 4441 \nQ 881 4594 1212 4672 \nQ 1544 4750 1819 4750 \nQ 2544 4750 2975 4387 \nQ 3406 4025 3406 3419 \nQ 3406 3131 3298 2873 \nQ 3191 2616 2906 2266 \nQ 2828 2175 2409 1742 \nQ 1991 1309 1228 531 \nz\n\" id=\"DejaVuSans-32\" transform=\"scale(0.015625)\"/>\n       </defs>\n       <use xlink:href=\"#DejaVuSans-32\"/>\n      </g>\n     </g>\n    </g>\n    <g id=\"xtick_3\">\n     <g id=\"line2d_3\">\n      <g>\n       <use style=\"stroke:#000000;stroke-width:0.8;\" x=\"149.123711\" xlink:href=\"#me969f1361c\" y=\"239.758125\"/>\n      </g>\n     </g>\n     <g id=\"text_3\">\n      <!-- 3 -->\n      <g transform=\"translate(145.942461 254.356562)scale(0.1 -0.1)\">\n       <defs>\n        <path d=\"M 2597 2516 \nQ 3050 2419 3304 2112 \nQ 3559 1806 3559 1356 \nQ 3559 666 3084 287 \nQ 2609 -91 1734 -91 \nQ 1441 -91 1130 -33 \nQ 819 25 488 141 \nL 488 750 \nQ 750 597 1062 519 \nQ 1375 441 1716 441 \nQ 2309 441 2620 675 \nQ 2931 909 2931 1356 \nQ 2931 1769 2642 2001 \nQ 2353 2234 1838 2234 \nL 1294 2234 \nL 1294 2753 \nL 1863 2753 \nQ 2328 2753 2575 2939 \nQ 2822 3125 2822 3475 \nQ 2822 3834 2567 4026 \nQ 2313 4219 1838 4219 \nQ 1578 4219 1281 4162 \nQ 984 4106 628 3988 \nL 628 4550 \nQ 988 4650 1302 4700 \nQ 1616 4750 1894 4750 \nQ 2613 4750 3031 4423 \nQ 3450 4097 3450 3541 \nQ 3450 3153 3228 2886 \nQ 3006 2619 2597 2516 \nz\n\" id=\"DejaVuSans-33\" transform=\"scale(0.015625)\"/>\n       </defs>\n       <use xlink:href=\"#DejaVuSans-33\"/>\n      </g>\n     </g>\n    </g>\n    <g id=\"xtick_4\">\n     <g id=\"line2d_4\">\n      <g>\n       <use style=\"stroke:#000000;stroke-width:0.8;\" x=\"192.025667\" xlink:href=\"#me969f1361c\" y=\"239.758125\"/>\n      </g>\n     </g>\n     <g id=\"text_4\">\n      <!-- 4 -->\n      <g transform=\"translate(188.844417 254.356562)scale(0.1 -0.1)\">\n       <defs>\n        <path d=\"M 2419 4116 \nL 825 1625 \nL 2419 1625 \nL 2419 4116 \nz\nM 2253 4666 \nL 3047 4666 \nL 3047 1625 \nL 3713 1625 \nL 3713 1100 \nL 3047 1100 \nL 3047 0 \nL 2419 0 \nL 2419 1100 \nL 313 1100 \nL 313 1709 \nL 2253 4666 \nz\n\" id=\"DejaVuSans-34\" transform=\"scale(0.015625)\"/>\n       </defs>\n       <use xlink:href=\"#DejaVuSans-34\"/>\n      </g>\n     </g>\n    </g>\n    <g id=\"xtick_5\">\n     <g id=\"line2d_5\">\n      <g>\n       <use style=\"stroke:#000000;stroke-width:0.8;\" x=\"234.927623\" xlink:href=\"#me969f1361c\" y=\"239.758125\"/>\n      </g>\n     </g>\n     <g id=\"text_5\">\n      <!-- 5 -->\n      <g transform=\"translate(231.746373 254.356562)scale(0.1 -0.1)\">\n       <defs>\n        <path d=\"M 691 4666 \nL 3169 4666 \nL 3169 4134 \nL 1269 4134 \nL 1269 2991 \nQ 1406 3038 1543 3061 \nQ 1681 3084 1819 3084 \nQ 2600 3084 3056 2656 \nQ 3513 2228 3513 1497 \nQ 3513 744 3044 326 \nQ 2575 -91 1722 -91 \nQ 1428 -91 1123 -41 \nQ 819 9 494 109 \nL 494 744 \nQ 775 591 1075 516 \nQ 1375 441 1709 441 \nQ 2250 441 2565 725 \nQ 2881 1009 2881 1497 \nQ 2881 1984 2565 2268 \nQ 2250 2553 1709 2553 \nQ 1456 2553 1204 2497 \nQ 953 2441 691 2322 \nL 691 4666 \nz\n\" id=\"DejaVuSans-35\" transform=\"scale(0.015625)\"/>\n       </defs>\n       <use xlink:href=\"#DejaVuSans-35\"/>\n      </g>\n     </g>\n    </g>\n    <g id=\"xtick_6\">\n     <g id=\"line2d_6\">\n      <g>\n       <use style=\"stroke:#000000;stroke-width:0.8;\" x=\"277.829579\" xlink:href=\"#me969f1361c\" y=\"239.758125\"/>\n      </g>\n     </g>\n     <g id=\"text_6\">\n      <!-- 6 -->\n      <g transform=\"translate(274.648329 254.356562)scale(0.1 -0.1)\">\n       <defs>\n        <path d=\"M 2113 2584 \nQ 1688 2584 1439 2293 \nQ 1191 2003 1191 1497 \nQ 1191 994 1439 701 \nQ 1688 409 2113 409 \nQ 2538 409 2786 701 \nQ 3034 994 3034 1497 \nQ 3034 2003 2786 2293 \nQ 2538 2584 2113 2584 \nz\nM 3366 4563 \nL 3366 3988 \nQ 3128 4100 2886 4159 \nQ 2644 4219 2406 4219 \nQ 1781 4219 1451 3797 \nQ 1122 3375 1075 2522 \nQ 1259 2794 1537 2939 \nQ 1816 3084 2150 3084 \nQ 2853 3084 3261 2657 \nQ 3669 2231 3669 1497 \nQ 3669 778 3244 343 \nQ 2819 -91 2113 -91 \nQ 1303 -91 875 529 \nQ 447 1150 447 2328 \nQ 447 3434 972 4092 \nQ 1497 4750 2381 4750 \nQ 2619 4750 2861 4703 \nQ 3103 4656 3366 4563 \nz\n\" id=\"DejaVuSans-36\" transform=\"scale(0.015625)\"/>\n       </defs>\n       <use xlink:href=\"#DejaVuSans-36\"/>\n      </g>\n     </g>\n    </g>\n    <g id=\"xtick_7\">\n     <g id=\"line2d_7\">\n      <g>\n       <use style=\"stroke:#000000;stroke-width:0.8;\" x=\"320.731534\" xlink:href=\"#me969f1361c\" y=\"239.758125\"/>\n      </g>\n     </g>\n     <g id=\"text_7\">\n      <!-- 7 -->\n      <g transform=\"translate(317.550284 254.356562)scale(0.1 -0.1)\">\n       <defs>\n        <path d=\"M 525 4666 \nL 3525 4666 \nL 3525 4397 \nL 1831 0 \nL 1172 0 \nL 2766 4134 \nL 525 4134 \nL 525 4666 \nz\n\" id=\"DejaVuSans-37\" transform=\"scale(0.015625)\"/>\n       </defs>\n       <use xlink:href=\"#DejaVuSans-37\"/>\n      </g>\n     </g>\n    </g>\n    <g id=\"xtick_8\">\n     <g id=\"line2d_8\">\n      <g>\n       <use style=\"stroke:#000000;stroke-width:0.8;\" x=\"363.63349\" xlink:href=\"#me969f1361c\" y=\"239.758125\"/>\n      </g>\n     </g>\n     <g id=\"text_8\">\n      <!-- 8 -->\n      <g transform=\"translate(360.45224 254.356562)scale(0.1 -0.1)\">\n       <defs>\n        <path d=\"M 2034 2216 \nQ 1584 2216 1326 1975 \nQ 1069 1734 1069 1313 \nQ 1069 891 1326 650 \nQ 1584 409 2034 409 \nQ 2484 409 2743 651 \nQ 3003 894 3003 1313 \nQ 3003 1734 2745 1975 \nQ 2488 2216 2034 2216 \nz\nM 1403 2484 \nQ 997 2584 770 2862 \nQ 544 3141 544 3541 \nQ 544 4100 942 4425 \nQ 1341 4750 2034 4750 \nQ 2731 4750 3128 4425 \nQ 3525 4100 3525 3541 \nQ 3525 3141 3298 2862 \nQ 3072 2584 2669 2484 \nQ 3125 2378 3379 2068 \nQ 3634 1759 3634 1313 \nQ 3634 634 3220 271 \nQ 2806 -91 2034 -91 \nQ 1263 -91 848 271 \nQ 434 634 434 1313 \nQ 434 1759 690 2068 \nQ 947 2378 1403 2484 \nz\nM 1172 3481 \nQ 1172 3119 1398 2916 \nQ 1625 2713 2034 2713 \nQ 2441 2713 2670 2916 \nQ 2900 3119 2900 3481 \nQ 2900 3844 2670 4047 \nQ 2441 4250 2034 4250 \nQ 1625 4250 1398 4047 \nQ 1172 3844 1172 3481 \nz\n\" id=\"DejaVuSans-38\" transform=\"scale(0.015625)\"/>\n       </defs>\n       <use xlink:href=\"#DejaVuSans-38\"/>\n      </g>\n     </g>\n    </g>\n    <g id=\"text_9\">\n     <!-- width -->\n     <g transform=\"translate(203.7625 268.034687)scale(0.1 -0.1)\">\n      <defs>\n       <path d=\"M 269 3500 \nL 844 3500 \nL 1563 769 \nL 2278 3500 \nL 2956 3500 \nL 3675 769 \nL 4391 3500 \nL 4966 3500 \nL 4050 0 \nL 3372 0 \nL 2619 2869 \nL 1863 0 \nL 1184 0 \nL 269 3500 \nz\n\" id=\"DejaVuSans-77\" transform=\"scale(0.015625)\"/>\n       <path d=\"M 603 3500 \nL 1178 3500 \nL 1178 0 \nL 603 0 \nL 603 3500 \nz\nM 603 4863 \nL 1178 4863 \nL 1178 4134 \nL 603 4134 \nL 603 4863 \nz\n\" id=\"DejaVuSans-69\" transform=\"scale(0.015625)\"/>\n       <path d=\"M 2906 2969 \nL 2906 4863 \nL 3481 4863 \nL 3481 0 \nL 2906 0 \nL 2906 525 \nQ 2725 213 2448 61 \nQ 2172 -91 1784 -91 \nQ 1150 -91 751 415 \nQ 353 922 353 1747 \nQ 353 2572 751 3078 \nQ 1150 3584 1784 3584 \nQ 2172 3584 2448 3432 \nQ 2725 3281 2906 2969 \nz\nM 947 1747 \nQ 947 1113 1208 752 \nQ 1469 391 1925 391 \nQ 2381 391 2643 752 \nQ 2906 1113 2906 1747 \nQ 2906 2381 2643 2742 \nQ 2381 3103 1925 3103 \nQ 1469 3103 1208 2742 \nQ 947 2381 947 1747 \nz\n\" id=\"DejaVuSans-64\" transform=\"scale(0.015625)\"/>\n       <path d=\"M 1172 4494 \nL 1172 3500 \nL 2356 3500 \nL 2356 3053 \nL 1172 3053 \nL 1172 1153 \nQ 1172 725 1289 603 \nQ 1406 481 1766 481 \nL 2356 481 \nL 2356 0 \nL 1766 0 \nQ 1100 0 847 248 \nQ 594 497 594 1153 \nL 594 3053 \nL 172 3053 \nL 172 3500 \nL 594 3500 \nL 594 4494 \nL 1172 4494 \nz\n\" id=\"DejaVuSans-74\" transform=\"scale(0.015625)\"/>\n       <path d=\"M 3513 2113 \nL 3513 0 \nL 2938 0 \nL 2938 2094 \nQ 2938 2591 2744 2837 \nQ 2550 3084 2163 3084 \nQ 1697 3084 1428 2787 \nQ 1159 2491 1159 1978 \nL 1159 0 \nL 581 0 \nL 581 4863 \nL 1159 4863 \nL 1159 2956 \nQ 1366 3272 1645 3428 \nQ 1925 3584 2291 3584 \nQ 2894 3584 3203 3211 \nQ 3513 2838 3513 2113 \nz\n\" id=\"DejaVuSans-68\" transform=\"scale(0.015625)\"/>\n      </defs>\n      <use xlink:href=\"#DejaVuSans-77\"/>\n      <use x=\"81.787109\" xlink:href=\"#DejaVuSans-69\"/>\n      <use x=\"109.570312\" xlink:href=\"#DejaVuSans-64\"/>\n      <use x=\"173.046875\" xlink:href=\"#DejaVuSans-74\"/>\n      <use x=\"212.255859\" xlink:href=\"#DejaVuSans-68\"/>\n     </g>\n    </g>\n   </g>\n   <g id=\"matplotlib.axis_2\">\n    <g id=\"ytick_1\">\n     <g id=\"line2d_9\">\n      <defs>\n       <path d=\"M 0 0 \nL -3.5 0 \n\" id=\"m4f3ce1034d\" style=\"stroke:#000000;stroke-width:0.8;\"/>\n      </defs>\n      <g>\n       <use style=\"stroke:#000000;stroke-width:0.8;\" x=\"50.14375\" xlink:href=\"#m4f3ce1034d\" y=\"221.135568\"/>\n      </g>\n     </g>\n     <g id=\"text_10\">\n      <!-- 2.5 -->\n      <g transform=\"translate(27.240625 224.934787)scale(0.1 -0.1)\">\n       <defs>\n        <path d=\"M 684 794 \nL 1344 794 \nL 1344 0 \nL 684 0 \nL 684 794 \nz\n\" id=\"DejaVuSans-2e\" transform=\"scale(0.015625)\"/>\n       </defs>\n       <use xlink:href=\"#DejaVuSans-32\"/>\n       <use x=\"63.623047\" xlink:href=\"#DejaVuSans-2e\"/>\n       <use x=\"95.410156\" xlink:href=\"#DejaVuSans-35\"/>\n      </g>\n     </g>\n    </g>\n    <g id=\"ytick_2\">\n     <g id=\"line2d_10\">\n      <g>\n       <use style=\"stroke:#000000;stroke-width:0.8;\" x=\"50.14375\" xlink:href=\"#m4f3ce1034d\" y=\"192.434437\"/>\n      </g>\n     </g>\n     <g id=\"text_11\">\n      <!-- 5.0 -->\n      <g transform=\"translate(27.240625 196.233656)scale(0.1 -0.1)\">\n       <defs>\n        <path d=\"M 2034 4250 \nQ 1547 4250 1301 3770 \nQ 1056 3291 1056 2328 \nQ 1056 1369 1301 889 \nQ 1547 409 2034 409 \nQ 2525 409 2770 889 \nQ 3016 1369 3016 2328 \nQ 3016 3291 2770 3770 \nQ 2525 4250 2034 4250 \nz\nM 2034 4750 \nQ 2819 4750 3233 4129 \nQ 3647 3509 3647 2328 \nQ 3647 1150 3233 529 \nQ 2819 -91 2034 -91 \nQ 1250 -91 836 529 \nQ 422 1150 422 2328 \nQ 422 3509 836 4129 \nQ 1250 4750 2034 4750 \nz\n\" id=\"DejaVuSans-30\" transform=\"scale(0.015625)\"/>\n       </defs>\n       <use xlink:href=\"#DejaVuSans-35\"/>\n       <use x=\"63.623047\" xlink:href=\"#DejaVuSans-2e\"/>\n       <use x=\"95.410156\" xlink:href=\"#DejaVuSans-30\"/>\n      </g>\n     </g>\n    </g>\n    <g id=\"ytick_3\">\n     <g id=\"line2d_11\">\n      <g>\n       <use style=\"stroke:#000000;stroke-width:0.8;\" x=\"50.14375\" xlink:href=\"#m4f3ce1034d\" y=\"163.733306\"/>\n      </g>\n     </g>\n     <g id=\"text_12\">\n      <!-- 7.5 -->\n      <g transform=\"translate(27.240625 167.532524)scale(0.1 -0.1)\">\n       <use xlink:href=\"#DejaVuSans-37\"/>\n       <use x=\"63.623047\" xlink:href=\"#DejaVuSans-2e\"/>\n       <use x=\"95.410156\" xlink:href=\"#DejaVuSans-35\"/>\n      </g>\n     </g>\n    </g>\n    <g id=\"ytick_4\">\n     <g id=\"line2d_12\">\n      <g>\n       <use style=\"stroke:#000000;stroke-width:0.8;\" x=\"50.14375\" xlink:href=\"#m4f3ce1034d\" y=\"135.032174\"/>\n      </g>\n     </g>\n     <g id=\"text_13\">\n      <!-- 10.0 -->\n      <g transform=\"translate(20.878125 138.831393)scale(0.1 -0.1)\">\n       <use xlink:href=\"#DejaVuSans-31\"/>\n       <use x=\"63.623047\" xlink:href=\"#DejaVuSans-30\"/>\n       <use x=\"127.246094\" xlink:href=\"#DejaVuSans-2e\"/>\n       <use x=\"159.033203\" xlink:href=\"#DejaVuSans-30\"/>\n      </g>\n     </g>\n    </g>\n    <g id=\"ytick_5\">\n     <g id=\"line2d_13\">\n      <g>\n       <use style=\"stroke:#000000;stroke-width:0.8;\" x=\"50.14375\" xlink:href=\"#m4f3ce1034d\" y=\"106.331043\"/>\n      </g>\n     </g>\n     <g id=\"text_14\">\n      <!-- 12.5 -->\n      <g transform=\"translate(20.878125 110.130262)scale(0.1 -0.1)\">\n       <use xlink:href=\"#DejaVuSans-31\"/>\n       <use x=\"63.623047\" xlink:href=\"#DejaVuSans-32\"/>\n       <use x=\"127.246094\" xlink:href=\"#DejaVuSans-2e\"/>\n       <use x=\"159.033203\" xlink:href=\"#DejaVuSans-35\"/>\n      </g>\n     </g>\n    </g>\n    <g id=\"ytick_6\">\n     <g id=\"line2d_14\">\n      <g>\n       <use style=\"stroke:#000000;stroke-width:0.8;\" x=\"50.14375\" xlink:href=\"#m4f3ce1034d\" y=\"77.629912\"/>\n      </g>\n     </g>\n     <g id=\"text_15\">\n      <!-- 15.0 -->\n      <g transform=\"translate(20.878125 81.429131)scale(0.1 -0.1)\">\n       <use xlink:href=\"#DejaVuSans-31\"/>\n       <use x=\"63.623047\" xlink:href=\"#DejaVuSans-35\"/>\n       <use x=\"127.246094\" xlink:href=\"#DejaVuSans-2e\"/>\n       <use x=\"159.033203\" xlink:href=\"#DejaVuSans-30\"/>\n      </g>\n     </g>\n    </g>\n    <g id=\"ytick_7\">\n     <g id=\"line2d_15\">\n      <g>\n       <use style=\"stroke:#000000;stroke-width:0.8;\" x=\"50.14375\" xlink:href=\"#m4f3ce1034d\" y=\"48.928781\"/>\n      </g>\n     </g>\n     <g id=\"text_16\">\n      <!-- 17.5 -->\n      <g transform=\"translate(20.878125 52.727999)scale(0.1 -0.1)\">\n       <use xlink:href=\"#DejaVuSans-31\"/>\n       <use x=\"63.623047\" xlink:href=\"#DejaVuSans-37\"/>\n       <use x=\"127.246094\" xlink:href=\"#DejaVuSans-2e\"/>\n       <use x=\"159.033203\" xlink:href=\"#DejaVuSans-35\"/>\n      </g>\n     </g>\n    </g>\n    <g id=\"text_17\">\n     <!-- Height -->\n     <g transform=\"translate(14.798438 147.567031)rotate(-90)scale(0.1 -0.1)\">\n      <defs>\n       <path d=\"M 628 4666 \nL 1259 4666 \nL 1259 2753 \nL 3553 2753 \nL 3553 4666 \nL 4184 4666 \nL 4184 0 \nL 3553 0 \nL 3553 2222 \nL 1259 2222 \nL 1259 0 \nL 628 0 \nL 628 4666 \nz\n\" id=\"DejaVuSans-48\" transform=\"scale(0.015625)\"/>\n       <path d=\"M 3597 1894 \nL 3597 1613 \nL 953 1613 \nQ 991 1019 1311 708 \nQ 1631 397 2203 397 \nQ 2534 397 2845 478 \nQ 3156 559 3463 722 \nL 3463 178 \nQ 3153 47 2828 -22 \nQ 2503 -91 2169 -91 \nQ 1331 -91 842 396 \nQ 353 884 353 1716 \nQ 353 2575 817 3079 \nQ 1281 3584 2069 3584 \nQ 2775 3584 3186 3129 \nQ 3597 2675 3597 1894 \nz\nM 3022 2063 \nQ 3016 2534 2758 2815 \nQ 2500 3097 2075 3097 \nQ 1594 3097 1305 2825 \nQ 1016 2553 972 2059 \nL 3022 2063 \nz\n\" id=\"DejaVuSans-65\" transform=\"scale(0.015625)\"/>\n       <path d=\"M 2906 1791 \nQ 2906 2416 2648 2759 \nQ 2391 3103 1925 3103 \nQ 1463 3103 1205 2759 \nQ 947 2416 947 1791 \nQ 947 1169 1205 825 \nQ 1463 481 1925 481 \nQ 2391 481 2648 825 \nQ 2906 1169 2906 1791 \nz\nM 3481 434 \nQ 3481 -459 3084 -895 \nQ 2688 -1331 1869 -1331 \nQ 1566 -1331 1297 -1286 \nQ 1028 -1241 775 -1147 \nL 775 -588 \nQ 1028 -725 1275 -790 \nQ 1522 -856 1778 -856 \nQ 2344 -856 2625 -561 \nQ 2906 -266 2906 331 \nL 2906 616 \nQ 2728 306 2450 153 \nQ 2172 0 1784 0 \nQ 1141 0 747 490 \nQ 353 981 353 1791 \nQ 353 2603 747 3093 \nQ 1141 3584 1784 3584 \nQ 2172 3584 2450 3431 \nQ 2728 3278 2906 2969 \nL 2906 3500 \nL 3481 3500 \nL 3481 434 \nz\n\" id=\"DejaVuSans-67\" transform=\"scale(0.015625)\"/>\n      </defs>\n      <use xlink:href=\"#DejaVuSans-48\"/>\n      <use x=\"75.195312\" xlink:href=\"#DejaVuSans-65\"/>\n      <use x=\"136.71875\" xlink:href=\"#DejaVuSans-69\"/>\n      <use x=\"164.501953\" xlink:href=\"#DejaVuSans-67\"/>\n      <use x=\"227.978516\" xlink:href=\"#DejaVuSans-68\"/>\n      <use x=\"291.357422\" xlink:href=\"#DejaVuSans-74\"/>\n     </g>\n    </g>\n   </g>\n   <g id=\"patch_3\">\n    <path d=\"M 50.14375 239.758125 \nL 50.14375 22.318125 \n\" style=\"fill:none;stroke:#000000;stroke-linecap:square;stroke-linejoin:miter;stroke-width:0.8;\"/>\n   </g>\n   <g id=\"patch_4\">\n    <path d=\"M 384.94375 239.758125 \nL 384.94375 22.318125 \n\" style=\"fill:none;stroke:#000000;stroke-linecap:square;stroke-linejoin:miter;stroke-width:0.8;\"/>\n   </g>\n   <g id=\"patch_5\">\n    <path d=\"M 50.14375 239.758125 \nL 384.94375 239.758125 \n\" style=\"fill:none;stroke:#000000;stroke-linecap:square;stroke-linejoin:miter;stroke-width:0.8;\"/>\n   </g>\n   <g id=\"patch_6\">\n    <path d=\"M 50.14375 22.318125 \nL 384.94375 22.318125 \n\" style=\"fill:none;stroke:#000000;stroke-linecap:square;stroke-linejoin:miter;stroke-width:0.8;\"/>\n   </g>\n   <g id=\"text_18\">\n    <!-- training data -->\n    <g transform=\"translate(178.878438 16.318125)scale(0.12 -0.12)\">\n     <defs>\n      <path d=\"M 2631 2963 \nQ 2534 3019 2420 3045 \nQ 2306 3072 2169 3072 \nQ 1681 3072 1420 2755 \nQ 1159 2438 1159 1844 \nL 1159 0 \nL 581 0 \nL 581 3500 \nL 1159 3500 \nL 1159 2956 \nQ 1341 3275 1631 3429 \nQ 1922 3584 2338 3584 \nQ 2397 3584 2469 3576 \nQ 2541 3569 2628 3553 \nL 2631 2963 \nz\n\" id=\"DejaVuSans-72\" transform=\"scale(0.015625)\"/>\n      <path d=\"M 2194 1759 \nQ 1497 1759 1228 1600 \nQ 959 1441 959 1056 \nQ 959 750 1161 570 \nQ 1363 391 1709 391 \nQ 2188 391 2477 730 \nQ 2766 1069 2766 1631 \nL 2766 1759 \nL 2194 1759 \nz\nM 3341 1997 \nL 3341 0 \nL 2766 0 \nL 2766 531 \nQ 2569 213 2275 61 \nQ 1981 -91 1556 -91 \nQ 1019 -91 701 211 \nQ 384 513 384 1019 \nQ 384 1609 779 1909 \nQ 1175 2209 1959 2209 \nL 2766 2209 \nL 2766 2266 \nQ 2766 2663 2505 2880 \nQ 2244 3097 1772 3097 \nQ 1472 3097 1187 3025 \nQ 903 2953 641 2809 \nL 641 3341 \nQ 956 3463 1253 3523 \nQ 1550 3584 1831 3584 \nQ 2591 3584 2966 3190 \nQ 3341 2797 3341 1997 \nz\n\" id=\"DejaVuSans-61\" transform=\"scale(0.015625)\"/>\n      <path d=\"M 3513 2113 \nL 3513 0 \nL 2938 0 \nL 2938 2094 \nQ 2938 2591 2744 2837 \nQ 2550 3084 2163 3084 \nQ 1697 3084 1428 2787 \nQ 1159 2491 1159 1978 \nL 1159 0 \nL 581 0 \nL 581 3500 \nL 1159 3500 \nL 1159 2956 \nQ 1366 3272 1645 3428 \nQ 1925 3584 2291 3584 \nQ 2894 3584 3203 3211 \nQ 3513 2838 3513 2113 \nz\n\" id=\"DejaVuSans-6e\" transform=\"scale(0.015625)\"/>\n      <path id=\"DejaVuSans-20\" transform=\"scale(0.015625)\"/>\n     </defs>\n     <use xlink:href=\"#DejaVuSans-74\"/>\n     <use x=\"39.208984\" xlink:href=\"#DejaVuSans-72\"/>\n     <use x=\"80.322266\" xlink:href=\"#DejaVuSans-61\"/>\n     <use x=\"141.601562\" xlink:href=\"#DejaVuSans-69\"/>\n     <use x=\"169.384766\" xlink:href=\"#DejaVuSans-6e\"/>\n     <use x=\"232.763672\" xlink:href=\"#DejaVuSans-69\"/>\n     <use x=\"260.546875\" xlink:href=\"#DejaVuSans-6e\"/>\n     <use x=\"323.925781\" xlink:href=\"#DejaVuSans-67\"/>\n     <use x=\"387.402344\" xlink:href=\"#DejaVuSans-20\"/>\n     <use x=\"419.189453\" xlink:href=\"#DejaVuSans-64\"/>\n     <use x=\"482.666016\" xlink:href=\"#DejaVuSans-61\"/>\n     <use x=\"543.945312\" xlink:href=\"#DejaVuSans-74\"/>\n     <use x=\"583.154297\" xlink:href=\"#DejaVuSans-61\"/>\n    </g>\n   </g>\n  </g>\n </g>\n <defs>\n  <clipPath id=\"pbecef8b408\">\n   <rect height=\"217.44\" width=\"334.8\" x=\"50.14375\" y=\"22.318125\"/>\n  </clipPath>\n </defs>\n</svg>\n",
      "image/png": "[encoded data removed]"
     },
     "metadata": {
      "needs_background": "light"
     }
    }
   ],
   "metadata": {}
  },
  {
   "cell_type": "code",
   "execution_count": 102,
   "source": [
    "\n",
    "model = LinearRegression()\n",
    "model.fit(x_train,x_train)"
   ],
   "outputs": [
    {
     "output_type": "execute_result",
     "data": {
      "text/plain": [
       "LinearRegression()"
      ]
     },
     "metadata": {},
     "execution_count": 102
    }
   ],
   "metadata": {}
  },
  {
   "cell_type": "code",
   "execution_count": 103,
   "source": [
    "\n",
    "plt.scatter(x_train, x_train, color = 'red')\n",
    "plt.plot(x_train, model.predict(x_train), color = 'blue')\n",
    "plt.title('Training set')\n",
    "plt.xlabel('width')\n",
    "plt.ylabel('Height')\n",
    "plt.show()"
   ],
   "outputs": [
    {
     "output_type": "display_data",
     "data": {
      "text/plain": [
       "<Figure size 432x288 with 1 Axes>"
      ],
      "image/svg+xml": "<?xml version=\"1.0\" encoding=\"utf-8\" standalone=\"no\"?>\n<!DOCTYPE svg PUBLIC \"-//W3C//DTD SVG 1.1//EN\"\n  \"http://www.w3.org/Graphics/SVG/1.1/DTD/svg11.dtd\">\n<svg height=\"277.314375pt\" version=\"1.1\" viewBox=\"0 0 376.240625 277.314375\" width=\"376.240625pt\" xmlns=\"http://www.w3.org/2000/svg\" xmlns:xlink=\"http://www.w3.org/1999/xlink\">\n <metadata>\n  <rdf:RDF xmlns:cc=\"http://creativecommons.org/ns#\" xmlns:dc=\"http://purl.org/dc/elements/1.1/\" xmlns:rdf=\"http://www.w3.org/1999/02/22-rdf-syntax-ns#\">\n   <cc:Work>\n    <dc:type rdf:resource=\"http://purl.org/dc/dcmitype/StillImage\"/>\n    <dc:date>2021-08-10T19:16:35.653088</dc:date>\n    <dc:format>image/svg+xml</dc:format>\n    <dc:creator>\n     <cc:Agent>\n      <dc:title>Matplotlib v3.4.2, https://matplotlib.org/</dc:title>\n     </cc:Agent>\n    </dc:creator>\n   </cc:Work>\n  </rdf:RDF>\n </metadata>\n <defs>\n  <style type=\"text/css\">*{stroke-linecap:butt;stroke-linejoin:round;}</style>\n </defs>\n <g id=\"figure_1\">\n  <g id=\"patch_1\">\n   <path d=\"M 0 277.314375 \nL 376.240625 277.314375 \nL 376.240625 0 \nL 0 0 \nz\n\" style=\"fill:none;\"/>\n  </g>\n  <g id=\"axes_1\">\n   <g id=\"patch_2\">\n    <path d=\"M 34.240625 239.758125 \nL 369.040625 239.758125 \nL 369.040625 22.318125 \nL 34.240625 22.318125 \nz\n\" style=\"fill:#ffffff;\"/>\n   </g>\n   <g id=\"PathCollection_1\">\n    <defs>\n     <path d=\"M 0 3 \nC 0.795609 3 1.55874 2.683901 2.12132 2.12132 \nC 2.683901 1.55874 3 0.795609 3 0 \nC 3 -0.795609 2.683901 -1.55874 2.12132 -2.12132 \nC 1.55874 -2.683901 0.795609 -3 0 -3 \nC -0.795609 -3 -1.55874 -2.683901 -2.12132 -2.12132 \nC -2.683901 -1.55874 -3 -0.795609 -3 0 \nC -3 0.795609 -2.683901 1.55874 -2.12132 2.12132 \nC -1.55874 2.683901 -0.795609 3 0 3 \nz\n\" id=\"mf4b908620f\" style=\"stroke:#ff0000;\"/>\n    </defs>\n    <g clip-path=\"url(#p4a622a4e8d)\">\n     <use style=\"fill:#ff0000;stroke:#ff0000;\" x=\"316.720832\" xlink:href=\"#mf4b908620f\" y=\"56.297862\"/>\n     <use style=\"fill:#ff0000;stroke:#ff0000;\" x=\"160.3003\" xlink:href=\"#mf4b908620f\" y=\"157.88711\"/>\n     <use style=\"fill:#ff0000;stroke:#ff0000;\" x=\"139.960483\" xlink:href=\"#mf4b908620f\" y=\"171.097056\"/>\n     <use style=\"fill:#ff0000;stroke:#ff0000;\" x=\"205.986593\" xlink:href=\"#mf4b908620f\" y=\"128.215582\"/>\n     <use style=\"fill:#ff0000;stroke:#ff0000;\" x=\"286.535015\" xlink:href=\"#mf4b908620f\" y=\"75.902413\"/>\n     <use style=\"fill:#ff0000;stroke:#ff0000;\" x=\"214.562694\" xlink:href=\"#mf4b908620f\" y=\"122.645727\"/>\n     <use style=\"fill:#ff0000;stroke:#ff0000;\" x=\"186.745066\" xlink:href=\"#mf4b908620f\" y=\"140.71223\"/>\n     <use style=\"fill:#ff0000;stroke:#ff0000;\" x=\"54.534108\" xlink:href=\"#mf4b908620f\" y=\"226.578271\"/>\n     <use style=\"fill:#ff0000;stroke:#ff0000;\" x=\"64.920672\" xlink:href=\"#mf4b908620f\" y=\"219.832589\"/>\n     <use style=\"fill:#ff0000;stroke:#ff0000;\" x=\"330.389395\" xlink:href=\"#mf4b908620f\" y=\"47.420644\"/>\n     <use style=\"fill:#ff0000;stroke:#ff0000;\" x=\"319.904157\" xlink:href=\"#mf4b908620f\" y=\"54.230412\"/>\n     <use style=\"fill:#ff0000;stroke:#ff0000;\" x=\"284.44998\" xlink:href=\"#mf4b908620f\" y=\"77.256565\"/>\n     <use style=\"fill:#ff0000;stroke:#ff0000;\" x=\"190.494697\" xlink:href=\"#mf4b908620f\" y=\"138.276986\"/>\n     <use style=\"fill:#ff0000;stroke:#ff0000;\" x=\"197.436233\" xlink:href=\"#mf4b908620f\" y=\"133.768719\"/>\n     <use style=\"fill:#ff0000;stroke:#ff0000;\" x=\"192.614053\" xlink:href=\"#mf4b908620f\" y=\"136.900544\"/>\n     <use style=\"fill:#ff0000;stroke:#ff0000;\" x=\"157.031171\" xlink:href=\"#mf4b908620f\" y=\"160.010286\"/>\n     <use style=\"fill:#ff0000;stroke:#ff0000;\" x=\"265.78763\" xlink:href=\"#mf4b908620f\" y=\"89.37706\"/>\n     <use style=\"fill:#ff0000;stroke:#ff0000;\" x=\"123.43894\" xlink:href=\"#mf4b908620f\" y=\"181.827177\"/>\n     <use style=\"fill:#ff0000;stroke:#ff0000;\" x=\"145.850921\" xlink:href=\"#mf4b908620f\" y=\"167.271438\"/>\n     <use style=\"fill:#ff0000;stroke:#ff0000;\" x=\"150.19689\" xlink:href=\"#mf4b908620f\" y=\"164.448895\"/>\n     <use style=\"fill:#ff0000;stroke:#ff0000;\" x=\"175.908032\" xlink:href=\"#mf4b908620f\" y=\"147.750476\"/>\n     <use style=\"fill:#ff0000;stroke:#ff0000;\" x=\"294.09005\" xlink:href=\"#mf4b908620f\" y=\"70.995703\"/>\n     <use style=\"fill:#ff0000;stroke:#ff0000;\" x=\"104.326118\" xlink:href=\"#mf4b908620f\" y=\"194.240235\"/>\n     <use style=\"fill:#ff0000;stroke:#ff0000;\" x=\"138.514687\" xlink:href=\"#mf4b908620f\" y=\"172.036046\"/>\n     <use style=\"fill:#ff0000;stroke:#ff0000;\" x=\"169.052299\" xlink:href=\"#mf4b908620f\" y=\"152.203016\"/>\n     <use style=\"fill:#ff0000;stroke:#ff0000;\" x=\"200.413629\" xlink:href=\"#mf4b908620f\" y=\"131.835013\"/>\n     <use style=\"fill:#ff0000;stroke:#ff0000;\" x=\"264.208838\" xlink:href=\"#mf4b908620f\" y=\"90.402426\"/>\n     <use style=\"fill:#ff0000;stroke:#ff0000;\" x=\"209.311495\" xlink:href=\"#mf4b908620f\" y=\"126.056184\"/>\n     <use style=\"fill:#ff0000;stroke:#ff0000;\" x=\"130.710821\" xlink:href=\"#mf4b908620f\" y=\"177.104363\"/>\n     <use style=\"fill:#ff0000;stroke:#ff0000;\" x=\"184.883121\" xlink:href=\"#mf4b908620f\" y=\"141.921493\"/>\n     <use style=\"fill:#ff0000;stroke:#ff0000;\" x=\"58.9573\" xlink:href=\"#mf4b908620f\" y=\"223.705575\"/>\n     <use style=\"fill:#ff0000;stroke:#ff0000;\" x=\"176.972\" xlink:href=\"#mf4b908620f\" y=\"147.059468\"/>\n     <use style=\"fill:#ff0000;stroke:#ff0000;\" x=\"172.089758\" xlink:href=\"#mf4b908620f\" y=\"150.230301\"/>\n     <use style=\"fill:#ff0000;stroke:#ff0000;\" x=\"226.352152\" xlink:href=\"#mf4b908620f\" y=\"114.988918\"/>\n     <use style=\"fill:#ff0000;stroke:#ff0000;\" x=\"54.280987\" xlink:href=\"#mf4b908620f\" y=\"226.742664\"/>\n     <use style=\"fill:#ff0000;stroke:#ff0000;\" x=\"287.796333\" xlink:href=\"#mf4b908620f\" y=\"75.083235\"/>\n     <use style=\"fill:#ff0000;stroke:#ff0000;\" x=\"195.664383\" xlink:href=\"#mf4b908620f\" y=\"134.91947\"/>\n     <use style=\"fill:#ff0000;stroke:#ff0000;\" x=\"309.393178\" xlink:href=\"#mf4b908620f\" y=\"61.056897\"/>\n     <use style=\"fill:#ff0000;stroke:#ff0000;\" x=\"338.965496\" xlink:href=\"#mf4b908620f\" y=\"41.85079\"/>\n     <use style=\"fill:#ff0000;stroke:#ff0000;\" x=\"59.309096\" xlink:href=\"#mf4b908620f\" y=\"223.477097\"/>\n     <use style=\"fill:#ff0000;stroke:#ff0000;\" x=\"129.119159\" xlink:href=\"#mf4b908620f\" y=\"178.138088\"/>\n     <use style=\"fill:#ff0000;stroke:#ff0000;\" x=\"59.652312\" xlink:href=\"#mf4b908620f\" y=\"223.254191\"/>\n     <use style=\"fill:#ff0000;stroke:#ff0000;\" x=\"63.719417\" xlink:href=\"#mf4b908620f\" y=\"220.612759\"/>\n     <use style=\"fill:#ff0000;stroke:#ff0000;\" x=\"168.41306\" xlink:href=\"#mf4b908620f\" y=\"152.618178\"/>\n     <use style=\"fill:#ff0000;stroke:#ff0000;\" x=\"159.991406\" xlink:href=\"#mf4b908620f\" y=\"158.087725\"/>\n     <use style=\"fill:#ff0000;stroke:#ff0000;\" x=\"278.550961\" xlink:href=\"#mf4b908620f\" y=\"81.087756\"/>\n     <use style=\"fill:#ff0000;stroke:#ff0000;\" x=\"145.846631\" xlink:href=\"#mf4b908620f\" y=\"167.274224\"/>\n     <use style=\"fill:#ff0000;stroke:#ff0000;\" x=\"135.374264\" xlink:href=\"#mf4b908620f\" y=\"174.075633\"/>\n     <use style=\"fill:#ff0000;stroke:#ff0000;\" x=\"175.135797\" xlink:href=\"#mf4b908620f\" y=\"148.252014\"/>\n     <use style=\"fill:#ff0000;stroke:#ff0000;\" x=\"325.421348\" xlink:href=\"#mf4b908620f\" y=\"50.647204\"/>\n     <use style=\"fill:#ff0000;stroke:#ff0000;\" x=\"191.910461\" xlink:href=\"#mf4b908620f\" y=\"137.3575\"/>\n     <use style=\"fill:#ff0000;stroke:#ff0000;\" x=\"304.18059\" xlink:href=\"#mf4b908620f\" y=\"64.442277\"/>\n     <use style=\"fill:#ff0000;stroke:#ff0000;\" x=\"314.48135\" xlink:href=\"#mf4b908620f\" y=\"57.752321\"/>\n     <use style=\"fill:#ff0000;stroke:#ff0000;\" x=\"230.972692\" xlink:href=\"#mf4b908620f\" y=\"111.988051\"/>\n     <use style=\"fill:#ff0000;stroke:#ff0000;\" x=\"200.855519\" xlink:href=\"#mf4b908620f\" y=\"131.548022\"/>\n     <use style=\"fill:#ff0000;stroke:#ff0000;\" x=\"324.666274\" xlink:href=\"#mf4b908620f\" y=\"51.137596\"/>\n     <use style=\"fill:#ff0000;stroke:#ff0000;\" x=\"298.993743\" xlink:href=\"#mf4b908620f\" y=\"67.810938\"/>\n     <use style=\"fill:#ff0000;stroke:#ff0000;\" x=\"277.821628\" xlink:href=\"#mf4b908620f\" y=\"81.56143\"/>\n     <use style=\"fill:#ff0000;stroke:#ff0000;\" x=\"224.584591\" xlink:href=\"#mf4b908620f\" y=\"116.136883\"/>\n     <use style=\"fill:#ff0000;stroke:#ff0000;\" x=\"181.57967\" xlink:href=\"#mf4b908620f\" y=\"144.06696\"/>\n     <use style=\"fill:#ff0000;stroke:#ff0000;\" x=\"269.271268\" xlink:href=\"#mf4b908620f\" y=\"87.114567\"/>\n     <use style=\"fill:#ff0000;stroke:#ff0000;\" x=\"183.235686\" xlink:href=\"#mf4b908620f\" y=\"142.99144\"/>\n     <use style=\"fill:#ff0000;stroke:#ff0000;\" x=\"262.698689\" xlink:href=\"#mf4b908620f\" y=\"91.38321\"/>\n     <use style=\"fill:#ff0000;stroke:#ff0000;\" x=\"224.77336\" xlink:href=\"#mf4b908620f\" y=\"116.014284\"/>\n     <use style=\"fill:#ff0000;stroke:#ff0000;\" x=\"215.909816\" xlink:href=\"#mf4b908620f\" y=\"121.770823\"/>\n     <use style=\"fill:#ff0000;stroke:#ff0000;\" x=\"156.722277\" xlink:href=\"#mf4b908620f\" y=\"160.210901\"/>\n     <use style=\"fill:#ff0000;stroke:#ff0000;\" x=\"209.225691\" xlink:href=\"#mf4b908620f\" y=\"126.11191\"/>\n     <use style=\"fill:#ff0000;stroke:#ff0000;\" x=\"164.2387\" xlink:href=\"#mf4b908620f\" y=\"155.329268\"/>\n     <use style=\"fill:#ff0000;stroke:#ff0000;\" x=\"161.857641\" xlink:href=\"#mf4b908620f\" y=\"156.875676\"/>\n     <use style=\"fill:#ff0000;stroke:#ff0000;\" x=\"213.447243\" xlink:href=\"#mf4b908620f\" y=\"123.370171\"/>\n     <use style=\"fill:#ff0000;stroke:#ff0000;\" x=\"325.996235\" xlink:href=\"#mf4b908620f\" y=\"50.273837\"/>\n     <use style=\"fill:#ff0000;stroke:#ff0000;\" x=\"117.415505\" xlink:href=\"#mf4b908620f\" y=\"185.739171\"/>\n     <use style=\"fill:#ff0000;stroke:#ff0000;\" x=\"205.724891\" xlink:href=\"#mf4b908620f\" y=\"128.385548\"/>\n     <use style=\"fill:#ff0000;stroke:#ff0000;\" x=\"147.163721\" xlink:href=\"#mf4b908620f\" y=\"166.418824\"/>\n     <use style=\"fill:#ff0000;stroke:#ff0000;\" x=\"227.497634\" xlink:href=\"#mf4b908620f\" y=\"114.244971\"/>\n     <use style=\"fill:#ff0000;stroke:#ff0000;\" x=\"262.055159\" xlink:href=\"#mf4b908620f\" y=\"91.801159\"/>\n     <use style=\"fill:#ff0000;stroke:#ff0000;\" x=\"273.278311\" xlink:href=\"#mf4b908620f\" y=\"84.512144\"/>\n     <use style=\"fill:#ff0000;stroke:#ff0000;\" x=\"186.161599\" xlink:href=\"#mf4b908620f\" y=\"141.09117\"/>\n     <use style=\"fill:#ff0000;stroke:#ff0000;\" x=\"134.799378\" xlink:href=\"#mf4b908620f\" y=\"174.449\"/>\n     <use style=\"fill:#ff0000;stroke:#ff0000;\" x=\"53.783324\" xlink:href=\"#mf4b908620f\" y=\"227.065877\"/>\n     <use style=\"fill:#ff0000;stroke:#ff0000;\" x=\"58.390994\" xlink:href=\"#mf4b908620f\" y=\"224.073369\"/>\n     <use style=\"fill:#ff0000;stroke:#ff0000;\" x=\"85.136073\" xlink:href=\"#mf4b908620f\" y=\"206.703447\"/>\n     <use style=\"fill:#ff0000;stroke:#ff0000;\" x=\"268.104335\" xlink:href=\"#mf4b908620f\" y=\"87.872447\"/>\n     <use style=\"fill:#ff0000;stroke:#ff0000;\" x=\"108.852275\" xlink:href=\"#mf4b908620f\" y=\"191.300667\"/>\n     <use style=\"fill:#ff0000;stroke:#ff0000;\" x=\"270.438202\" xlink:href=\"#mf4b908620f\" y=\"86.356688\"/>\n     <use style=\"fill:#ff0000;stroke:#ff0000;\" x=\"211.070475\" xlink:href=\"#mf4b908620f\" y=\"124.913792\"/>\n     <use style=\"fill:#ff0000;stroke:#ff0000;\" x=\"160.07721\" xlink:href=\"#mf4b908620f\" y=\"158.031999\"/>\n     <use style=\"fill:#ff0000;stroke:#ff0000;\" x=\"267.529449\" xlink:href=\"#mf4b908620f\" y=\"88.245814\"/>\n     <use style=\"fill:#ff0000;stroke:#ff0000;\" x=\"231.041335\" xlink:href=\"#mf4b908620f\" y=\"111.94347\"/>\n     <use style=\"fill:#ff0000;stroke:#ff0000;\" x=\"195.814539\" xlink:href=\"#mf4b908620f\" y=\"134.821948\"/>\n     <use style=\"fill:#ff0000;stroke:#ff0000;\" x=\"160.248818\" xlink:href=\"#mf4b908620f\" y=\"157.920546\"/>\n     <use style=\"fill:#ff0000;stroke:#ff0000;\" x=\"224.764779\" xlink:href=\"#mf4b908620f\" y=\"116.019857\"/>\n     <use style=\"fill:#ff0000;stroke:#ff0000;\" x=\"255.555513\" xlink:href=\"#mf4b908620f\" y=\"96.022434\"/>\n     <use style=\"fill:#ff0000;stroke:#ff0000;\" x=\"125.571167\" xlink:href=\"#mf4b908620f\" y=\"180.442375\"/>\n     <use style=\"fill:#ff0000;stroke:#ff0000;\" x=\"205.364515\" xlink:href=\"#mf4b908620f\" y=\"128.619599\"/>\n     <use style=\"fill:#ff0000;stroke:#ff0000;\" x=\"274.453825\" xlink:href=\"#mf4b908620f\" y=\"83.748692\"/>\n     <use style=\"fill:#ff0000;stroke:#ff0000;\" x=\"145.782278\" xlink:href=\"#mf4b908620f\" y=\"167.316019\"/>\n     <use style=\"fill:#ff0000;stroke:#ff0000;\" x=\"155.744113\" xlink:href=\"#mf4b908620f\" y=\"160.846183\"/>\n     <use style=\"fill:#ff0000;stroke:#ff0000;\" x=\"275.067323\" xlink:href=\"#mf4b908620f\" y=\"83.350248\"/>\n     <use style=\"fill:#ff0000;stroke:#ff0000;\" x=\"150.703133\" xlink:href=\"#mf4b908620f\" y=\"164.120109\"/>\n     <use style=\"fill:#ff0000;stroke:#ff0000;\" x=\"159.991406\" xlink:href=\"#mf4b908620f\" y=\"158.087725\"/>\n     <use style=\"fill:#ff0000;stroke:#ff0000;\" x=\"353.822443\" xlink:href=\"#mf4b908620f\" y=\"32.201761\"/>\n     <use style=\"fill:#ff0000;stroke:#ff0000;\" x=\"222.14776\" xlink:href=\"#mf4b908620f\" y=\"117.719513\"/>\n     <use style=\"fill:#ff0000;stroke:#ff0000;\" x=\"147.017855\" xlink:href=\"#mf4b908620f\" y=\"166.513559\"/>\n     <use style=\"fill:#ff0000;stroke:#ff0000;\" x=\"268.104335\" xlink:href=\"#mf4b908620f\" y=\"87.872447\"/>\n     <use style=\"fill:#ff0000;stroke:#ff0000;\" x=\"49.458807\" xlink:href=\"#mf4b908620f\" y=\"229.874489\"/>\n     <use style=\"fill:#ff0000;stroke:#ff0000;\" x=\"293.987085\" xlink:href=\"#mf4b908620f\" y=\"71.062575\"/>\n     <use style=\"fill:#ff0000;stroke:#ff0000;\" x=\"103.798424\" xlink:href=\"#mf4b908620f\" y=\"194.582952\"/>\n     <use style=\"fill:#ff0000;stroke:#ff0000;\" x=\"288.954686\" xlink:href=\"#mf4b908620f\" y=\"74.330929\"/>\n     <use style=\"fill:#ff0000;stroke:#ff0000;\" x=\"203.382444\" xlink:href=\"#mf4b908620f\" y=\"129.906879\"/>\n     <use style=\"fill:#ff0000;stroke:#ff0000;\" x=\"155.744113\" xlink:href=\"#mf4b908620f\" y=\"160.846183\"/>\n     <use style=\"fill:#ff0000;stroke:#ff0000;\" x=\"234.254692\" xlink:href=\"#mf4b908620f\" y=\"109.856516\"/>\n     <use style=\"fill:#ff0000;stroke:#ff0000;\" x=\"235.155633\" xlink:href=\"#mf4b908620f\" y=\"109.271389\"/>\n     <use style=\"fill:#ff0000;stroke:#ff0000;\" x=\"186.376109\" xlink:href=\"#mf4b908620f\" y=\"140.951854\"/>\n     <use style=\"fill:#ff0000;stroke:#ff0000;\" x=\"231.268716\" xlink:href=\"#mf4b908620f\" y=\"111.795795\"/>\n     <use style=\"fill:#ff0000;stroke:#ff0000;\" x=\"277.654311\" xlink:href=\"#mf4b908620f\" y=\"81.670097\"/>\n     <use style=\"fill:#ff0000;stroke:#ff0000;\" x=\"148.304913\" xlink:href=\"#mf4b908620f\" y=\"165.677662\"/>\n     <use style=\"fill:#ff0000;stroke:#ff0000;\" x=\"176.980581\" xlink:href=\"#mf4b908620f\" y=\"147.053896\"/>\n     <use style=\"fill:#ff0000;stroke:#ff0000;\" x=\"90.284308\" xlink:href=\"#mf4b908620f\" y=\"203.359862\"/>\n     <use style=\"fill:#ff0000;stroke:#ff0000;\" x=\"212.323212\" xlink:href=\"#mf4b908620f\" y=\"124.100187\"/>\n     <use style=\"fill:#ff0000;stroke:#ff0000;\" x=\"64.302884\" xlink:href=\"#mf4b908620f\" y=\"220.233819\"/>\n     <use style=\"fill:#ff0000;stroke:#ff0000;\" x=\"299.182512\" xlink:href=\"#mf4b908620f\" y=\"67.68834\"/>\n     <use style=\"fill:#ff0000;stroke:#ff0000;\" x=\"293.708222\" xlink:href=\"#mf4b908620f\" y=\"71.243685\"/>\n     <use style=\"fill:#ff0000;stroke:#ff0000;\" x=\"129.706915\" xlink:href=\"#mf4b908620f\" y=\"177.756362\"/>\n     <use style=\"fill:#ff0000;stroke:#ff0000;\" x=\"243.907632\" xlink:href=\"#mf4b908620f\" y=\"103.587295\"/>\n     <use style=\"fill:#ff0000;stroke:#ff0000;\" x=\"322.697074\" xlink:href=\"#mf4b908620f\" y=\"52.416517\"/>\n     <use style=\"fill:#ff0000;stroke:#ff0000;\" x=\"217.282678\" xlink:href=\"#mf4b908620f\" y=\"120.8792\"/>\n    </g>\n   </g>\n   <g id=\"matplotlib.axis_1\">\n    <g id=\"xtick_1\">\n     <g id=\"line2d_1\">\n      <defs>\n       <path d=\"M 0 0 \nL 0 3.5 \n\" id=\"mae79dbd858\" style=\"stroke:#000000;stroke-width:0.8;\"/>\n      </defs>\n      <g>\n       <use style=\"stroke:#000000;stroke-width:0.8;\" x=\"47.416674\" xlink:href=\"#mae79dbd858\" y=\"239.758125\"/>\n      </g>\n     </g>\n     <g id=\"text_1\">\n      <!-- 1 -->\n      <g transform=\"translate(44.235424 254.356562)scale(0.1 -0.1)\">\n       <defs>\n        <path d=\"M 794 531 \nL 1825 531 \nL 1825 4091 \nL 703 3866 \nL 703 4441 \nL 1819 4666 \nL 2450 4666 \nL 2450 531 \nL 3481 531 \nL 3481 0 \nL 794 0 \nL 794 531 \nz\n\" id=\"DejaVuSans-31\" transform=\"scale(0.015625)\"/>\n       </defs>\n       <use xlink:href=\"#DejaVuSans-31\"/>\n      </g>\n     </g>\n    </g>\n    <g id=\"xtick_2\">\n     <g id=\"line2d_2\">\n      <g>\n       <use style=\"stroke:#000000;stroke-width:0.8;\" x=\"90.31863\" xlink:href=\"#mae79dbd858\" y=\"239.758125\"/>\n      </g>\n     </g>\n     <g id=\"text_2\">\n      <!-- 2 -->\n      <g transform=\"translate(87.13738 254.356562)scale(0.1 -0.1)\">\n       <defs>\n        <path d=\"M 1228 531 \nL 3431 531 \nL 3431 0 \nL 469 0 \nL 469 531 \nQ 828 903 1448 1529 \nQ 2069 2156 2228 2338 \nQ 2531 2678 2651 2914 \nQ 2772 3150 2772 3378 \nQ 2772 3750 2511 3984 \nQ 2250 4219 1831 4219 \nQ 1534 4219 1204 4116 \nQ 875 4013 500 3803 \nL 500 4441 \nQ 881 4594 1212 4672 \nQ 1544 4750 1819 4750 \nQ 2544 4750 2975 4387 \nQ 3406 4025 3406 3419 \nQ 3406 3131 3298 2873 \nQ 3191 2616 2906 2266 \nQ 2828 2175 2409 1742 \nQ 1991 1309 1228 531 \nz\n\" id=\"DejaVuSans-32\" transform=\"scale(0.015625)\"/>\n       </defs>\n       <use xlink:href=\"#DejaVuSans-32\"/>\n      </g>\n     </g>\n    </g>\n    <g id=\"xtick_3\">\n     <g id=\"line2d_3\">\n      <g>\n       <use style=\"stroke:#000000;stroke-width:0.8;\" x=\"133.220586\" xlink:href=\"#mae79dbd858\" y=\"239.758125\"/>\n      </g>\n     </g>\n     <g id=\"text_3\">\n      <!-- 3 -->\n      <g transform=\"translate(130.039336 254.356562)scale(0.1 -0.1)\">\n       <defs>\n        <path d=\"M 2597 2516 \nQ 3050 2419 3304 2112 \nQ 3559 1806 3559 1356 \nQ 3559 666 3084 287 \nQ 2609 -91 1734 -91 \nQ 1441 -91 1130 -33 \nQ 819 25 488 141 \nL 488 750 \nQ 750 597 1062 519 \nQ 1375 441 1716 441 \nQ 2309 441 2620 675 \nQ 2931 909 2931 1356 \nQ 2931 1769 2642 2001 \nQ 2353 2234 1838 2234 \nL 1294 2234 \nL 1294 2753 \nL 1863 2753 \nQ 2328 2753 2575 2939 \nQ 2822 3125 2822 3475 \nQ 2822 3834 2567 4026 \nQ 2313 4219 1838 4219 \nQ 1578 4219 1281 4162 \nQ 984 4106 628 3988 \nL 628 4550 \nQ 988 4650 1302 4700 \nQ 1616 4750 1894 4750 \nQ 2613 4750 3031 4423 \nQ 3450 4097 3450 3541 \nQ 3450 3153 3228 2886 \nQ 3006 2619 2597 2516 \nz\n\" id=\"DejaVuSans-33\" transform=\"scale(0.015625)\"/>\n       </defs>\n       <use xlink:href=\"#DejaVuSans-33\"/>\n      </g>\n     </g>\n    </g>\n    <g id=\"xtick_4\">\n     <g id=\"line2d_4\">\n      <g>\n       <use style=\"stroke:#000000;stroke-width:0.8;\" x=\"176.122542\" xlink:href=\"#mae79dbd858\" y=\"239.758125\"/>\n      </g>\n     </g>\n     <g id=\"text_4\">\n      <!-- 4 -->\n      <g transform=\"translate(172.941292 254.356562)scale(0.1 -0.1)\">\n       <defs>\n        <path d=\"M 2419 4116 \nL 825 1625 \nL 2419 1625 \nL 2419 4116 \nz\nM 2253 4666 \nL 3047 4666 \nL 3047 1625 \nL 3713 1625 \nL 3713 1100 \nL 3047 1100 \nL 3047 0 \nL 2419 0 \nL 2419 1100 \nL 313 1100 \nL 313 1709 \nL 2253 4666 \nz\n\" id=\"DejaVuSans-34\" transform=\"scale(0.015625)\"/>\n       </defs>\n       <use xlink:href=\"#DejaVuSans-34\"/>\n      </g>\n     </g>\n    </g>\n    <g id=\"xtick_5\">\n     <g id=\"line2d_5\">\n      <g>\n       <use style=\"stroke:#000000;stroke-width:0.8;\" x=\"219.024498\" xlink:href=\"#mae79dbd858\" y=\"239.758125\"/>\n      </g>\n     </g>\n     <g id=\"text_5\">\n      <!-- 5 -->\n      <g transform=\"translate(215.843248 254.356562)scale(0.1 -0.1)\">\n       <defs>\n        <path d=\"M 691 4666 \nL 3169 4666 \nL 3169 4134 \nL 1269 4134 \nL 1269 2991 \nQ 1406 3038 1543 3061 \nQ 1681 3084 1819 3084 \nQ 2600 3084 3056 2656 \nQ 3513 2228 3513 1497 \nQ 3513 744 3044 326 \nQ 2575 -91 1722 -91 \nQ 1428 -91 1123 -41 \nQ 819 9 494 109 \nL 494 744 \nQ 775 591 1075 516 \nQ 1375 441 1709 441 \nQ 2250 441 2565 725 \nQ 2881 1009 2881 1497 \nQ 2881 1984 2565 2268 \nQ 2250 2553 1709 2553 \nQ 1456 2553 1204 2497 \nQ 953 2441 691 2322 \nL 691 4666 \nz\n\" id=\"DejaVuSans-35\" transform=\"scale(0.015625)\"/>\n       </defs>\n       <use xlink:href=\"#DejaVuSans-35\"/>\n      </g>\n     </g>\n    </g>\n    <g id=\"xtick_6\">\n     <g id=\"line2d_6\">\n      <g>\n       <use style=\"stroke:#000000;stroke-width:0.8;\" x=\"261.926454\" xlink:href=\"#mae79dbd858\" y=\"239.758125\"/>\n      </g>\n     </g>\n     <g id=\"text_6\">\n      <!-- 6 -->\n      <g transform=\"translate(258.745204 254.356562)scale(0.1 -0.1)\">\n       <defs>\n        <path d=\"M 2113 2584 \nQ 1688 2584 1439 2293 \nQ 1191 2003 1191 1497 \nQ 1191 994 1439 701 \nQ 1688 409 2113 409 \nQ 2538 409 2786 701 \nQ 3034 994 3034 1497 \nQ 3034 2003 2786 2293 \nQ 2538 2584 2113 2584 \nz\nM 3366 4563 \nL 3366 3988 \nQ 3128 4100 2886 4159 \nQ 2644 4219 2406 4219 \nQ 1781 4219 1451 3797 \nQ 1122 3375 1075 2522 \nQ 1259 2794 1537 2939 \nQ 1816 3084 2150 3084 \nQ 2853 3084 3261 2657 \nQ 3669 2231 3669 1497 \nQ 3669 778 3244 343 \nQ 2819 -91 2113 -91 \nQ 1303 -91 875 529 \nQ 447 1150 447 2328 \nQ 447 3434 972 4092 \nQ 1497 4750 2381 4750 \nQ 2619 4750 2861 4703 \nQ 3103 4656 3366 4563 \nz\n\" id=\"DejaVuSans-36\" transform=\"scale(0.015625)\"/>\n       </defs>\n       <use xlink:href=\"#DejaVuSans-36\"/>\n      </g>\n     </g>\n    </g>\n    <g id=\"xtick_7\">\n     <g id=\"line2d_7\">\n      <g>\n       <use style=\"stroke:#000000;stroke-width:0.8;\" x=\"304.828409\" xlink:href=\"#mae79dbd858\" y=\"239.758125\"/>\n      </g>\n     </g>\n     <g id=\"text_7\">\n      <!-- 7 -->\n      <g transform=\"translate(301.647159 254.356562)scale(0.1 -0.1)\">\n       <defs>\n        <path d=\"M 525 4666 \nL 3525 4666 \nL 3525 4397 \nL 1831 0 \nL 1172 0 \nL 2766 4134 \nL 525 4134 \nL 525 4666 \nz\n\" id=\"DejaVuSans-37\" transform=\"scale(0.015625)\"/>\n       </defs>\n       <use xlink:href=\"#DejaVuSans-37\"/>\n      </g>\n     </g>\n    </g>\n    <g id=\"xtick_8\">\n     <g id=\"line2d_8\">\n      <g>\n       <use style=\"stroke:#000000;stroke-width:0.8;\" x=\"347.730365\" xlink:href=\"#mae79dbd858\" y=\"239.758125\"/>\n      </g>\n     </g>\n     <g id=\"text_8\">\n      <!-- 8 -->\n      <g transform=\"translate(344.549115 254.356562)scale(0.1 -0.1)\">\n       <defs>\n        <path d=\"M 2034 2216 \nQ 1584 2216 1326 1975 \nQ 1069 1734 1069 1313 \nQ 1069 891 1326 650 \nQ 1584 409 2034 409 \nQ 2484 409 2743 651 \nQ 3003 894 3003 1313 \nQ 3003 1734 2745 1975 \nQ 2488 2216 2034 2216 \nz\nM 1403 2484 \nQ 997 2584 770 2862 \nQ 544 3141 544 3541 \nQ 544 4100 942 4425 \nQ 1341 4750 2034 4750 \nQ 2731 4750 3128 4425 \nQ 3525 4100 3525 3541 \nQ 3525 3141 3298 2862 \nQ 3072 2584 2669 2484 \nQ 3125 2378 3379 2068 \nQ 3634 1759 3634 1313 \nQ 3634 634 3220 271 \nQ 2806 -91 2034 -91 \nQ 1263 -91 848 271 \nQ 434 634 434 1313 \nQ 434 1759 690 2068 \nQ 947 2378 1403 2484 \nz\nM 1172 3481 \nQ 1172 3119 1398 2916 \nQ 1625 2713 2034 2713 \nQ 2441 2713 2670 2916 \nQ 2900 3119 2900 3481 \nQ 2900 3844 2670 4047 \nQ 2441 4250 2034 4250 \nQ 1625 4250 1398 4047 \nQ 1172 3844 1172 3481 \nz\n\" id=\"DejaVuSans-38\" transform=\"scale(0.015625)\"/>\n       </defs>\n       <use xlink:href=\"#DejaVuSans-38\"/>\n      </g>\n     </g>\n    </g>\n    <g id=\"text_9\">\n     <!-- width -->\n     <g transform=\"translate(187.859375 268.034687)scale(0.1 -0.1)\">\n      <defs>\n       <path d=\"M 269 3500 \nL 844 3500 \nL 1563 769 \nL 2278 3500 \nL 2956 3500 \nL 3675 769 \nL 4391 3500 \nL 4966 3500 \nL 4050 0 \nL 3372 0 \nL 2619 2869 \nL 1863 0 \nL 1184 0 \nL 269 3500 \nz\n\" id=\"DejaVuSans-77\" transform=\"scale(0.015625)\"/>\n       <path d=\"M 603 3500 \nL 1178 3500 \nL 1178 0 \nL 603 0 \nL 603 3500 \nz\nM 603 4863 \nL 1178 4863 \nL 1178 4134 \nL 603 4134 \nL 603 4863 \nz\n\" id=\"DejaVuSans-69\" transform=\"scale(0.015625)\"/>\n       <path d=\"M 2906 2969 \nL 2906 4863 \nL 3481 4863 \nL 3481 0 \nL 2906 0 \nL 2906 525 \nQ 2725 213 2448 61 \nQ 2172 -91 1784 -91 \nQ 1150 -91 751 415 \nQ 353 922 353 1747 \nQ 353 2572 751 3078 \nQ 1150 3584 1784 3584 \nQ 2172 3584 2448 3432 \nQ 2725 3281 2906 2969 \nz\nM 947 1747 \nQ 947 1113 1208 752 \nQ 1469 391 1925 391 \nQ 2381 391 2643 752 \nQ 2906 1113 2906 1747 \nQ 2906 2381 2643 2742 \nQ 2381 3103 1925 3103 \nQ 1469 3103 1208 2742 \nQ 947 2381 947 1747 \nz\n\" id=\"DejaVuSans-64\" transform=\"scale(0.015625)\"/>\n       <path d=\"M 1172 4494 \nL 1172 3500 \nL 2356 3500 \nL 2356 3053 \nL 1172 3053 \nL 1172 1153 \nQ 1172 725 1289 603 \nQ 1406 481 1766 481 \nL 2356 481 \nL 2356 0 \nL 1766 0 \nQ 1100 0 847 248 \nQ 594 497 594 1153 \nL 594 3053 \nL 172 3053 \nL 172 3500 \nL 594 3500 \nL 594 4494 \nL 1172 4494 \nz\n\" id=\"DejaVuSans-74\" transform=\"scale(0.015625)\"/>\n       <path d=\"M 3513 2113 \nL 3513 0 \nL 2938 0 \nL 2938 2094 \nQ 2938 2591 2744 2837 \nQ 2550 3084 2163 3084 \nQ 1697 3084 1428 2787 \nQ 1159 2491 1159 1978 \nL 1159 0 \nL 581 0 \nL 581 4863 \nL 1159 4863 \nL 1159 2956 \nQ 1366 3272 1645 3428 \nQ 1925 3584 2291 3584 \nQ 2894 3584 3203 3211 \nQ 3513 2838 3513 2113 \nz\n\" id=\"DejaVuSans-68\" transform=\"scale(0.015625)\"/>\n      </defs>\n      <use xlink:href=\"#DejaVuSans-77\"/>\n      <use x=\"81.787109\" xlink:href=\"#DejaVuSans-69\"/>\n      <use x=\"109.570312\" xlink:href=\"#DejaVuSans-64\"/>\n      <use x=\"173.046875\" xlink:href=\"#DejaVuSans-74\"/>\n      <use x=\"212.255859\" xlink:href=\"#DejaVuSans-68\"/>\n     </g>\n    </g>\n   </g>\n   <g id=\"matplotlib.axis_2\">\n    <g id=\"ytick_1\">\n     <g id=\"line2d_9\">\n      <defs>\n       <path d=\"M 0 0 \nL -3.5 0 \n\" id=\"m84be1940fd\" style=\"stroke:#000000;stroke-width:0.8;\"/>\n      </defs>\n      <g>\n       <use style=\"stroke:#000000;stroke-width:0.8;\" x=\"34.240625\" xlink:href=\"#m84be1940fd\" y=\"231.200777\"/>\n      </g>\n     </g>\n     <g id=\"text_10\">\n      <!-- 1 -->\n      <g transform=\"translate(20.878125 234.999996)scale(0.1 -0.1)\">\n       <use xlink:href=\"#DejaVuSans-31\"/>\n      </g>\n     </g>\n    </g>\n    <g id=\"ytick_2\">\n     <g id=\"line2d_10\">\n      <g>\n       <use style=\"stroke:#000000;stroke-width:0.8;\" x=\"34.240625\" xlink:href=\"#m84be1940fd\" y=\"203.337571\"/>\n      </g>\n     </g>\n     <g id=\"text_11\">\n      <!-- 2 -->\n      <g transform=\"translate(20.878125 207.13679)scale(0.1 -0.1)\">\n       <use xlink:href=\"#DejaVuSans-32\"/>\n      </g>\n     </g>\n    </g>\n    <g id=\"ytick_3\">\n     <g id=\"line2d_11\">\n      <g>\n       <use style=\"stroke:#000000;stroke-width:0.8;\" x=\"34.240625\" xlink:href=\"#m84be1940fd\" y=\"175.474366\"/>\n      </g>\n     </g>\n     <g id=\"text_12\">\n      <!-- 3 -->\n      <g transform=\"translate(20.878125 179.273584)scale(0.1 -0.1)\">\n       <use xlink:href=\"#DejaVuSans-33\"/>\n      </g>\n     </g>\n    </g>\n    <g id=\"ytick_4\">\n     <g id=\"line2d_12\">\n      <g>\n       <use style=\"stroke:#000000;stroke-width:0.8;\" x=\"34.240625\" xlink:href=\"#m84be1940fd\" y=\"147.61116\"/>\n      </g>\n     </g>\n     <g id=\"text_13\">\n      <!-- 4 -->\n      <g transform=\"translate(20.878125 151.410379)scale(0.1 -0.1)\">\n       <use xlink:href=\"#DejaVuSans-34\"/>\n      </g>\n     </g>\n    </g>\n    <g id=\"ytick_5\">\n     <g id=\"line2d_13\">\n      <g>\n       <use style=\"stroke:#000000;stroke-width:0.8;\" x=\"34.240625\" xlink:href=\"#m84be1940fd\" y=\"119.747954\"/>\n      </g>\n     </g>\n     <g id=\"text_14\">\n      <!-- 5 -->\n      <g transform=\"translate(20.878125 123.547173)scale(0.1 -0.1)\">\n       <use xlink:href=\"#DejaVuSans-35\"/>\n      </g>\n     </g>\n    </g>\n    <g id=\"ytick_6\">\n     <g id=\"line2d_14\">\n      <g>\n       <use style=\"stroke:#000000;stroke-width:0.8;\" x=\"34.240625\" xlink:href=\"#m84be1940fd\" y=\"91.884748\"/>\n      </g>\n     </g>\n     <g id=\"text_15\">\n      <!-- 6 -->\n      <g transform=\"translate(20.878125 95.683967)scale(0.1 -0.1)\">\n       <use xlink:href=\"#DejaVuSans-36\"/>\n      </g>\n     </g>\n    </g>\n    <g id=\"ytick_7\">\n     <g id=\"line2d_15\">\n      <g>\n       <use style=\"stroke:#000000;stroke-width:0.8;\" x=\"34.240625\" xlink:href=\"#m84be1940fd\" y=\"64.021542\"/>\n      </g>\n     </g>\n     <g id=\"text_16\">\n      <!-- 7 -->\n      <g transform=\"translate(20.878125 67.820761)scale(0.1 -0.1)\">\n       <use xlink:href=\"#DejaVuSans-37\"/>\n      </g>\n     </g>\n    </g>\n    <g id=\"ytick_8\">\n     <g id=\"line2d_16\">\n      <g>\n       <use style=\"stroke:#000000;stroke-width:0.8;\" x=\"34.240625\" xlink:href=\"#m84be1940fd\" y=\"36.158337\"/>\n      </g>\n     </g>\n     <g id=\"text_17\">\n      <!-- 8 -->\n      <g transform=\"translate(20.878125 39.957555)scale(0.1 -0.1)\">\n       <use xlink:href=\"#DejaVuSans-38\"/>\n      </g>\n     </g>\n    </g>\n    <g id=\"text_18\">\n     <!-- Height -->\n     <g transform=\"translate(14.798437 147.567031)rotate(-90)scale(0.1 -0.1)\">\n      <defs>\n       <path d=\"M 628 4666 \nL 1259 4666 \nL 1259 2753 \nL 3553 2753 \nL 3553 4666 \nL 4184 4666 \nL 4184 0 \nL 3553 0 \nL 3553 2222 \nL 1259 2222 \nL 1259 0 \nL 628 0 \nL 628 4666 \nz\n\" id=\"DejaVuSans-48\" transform=\"scale(0.015625)\"/>\n       <path d=\"M 3597 1894 \nL 3597 1613 \nL 953 1613 \nQ 991 1019 1311 708 \nQ 1631 397 2203 397 \nQ 2534 397 2845 478 \nQ 3156 559 3463 722 \nL 3463 178 \nQ 3153 47 2828 -22 \nQ 2503 -91 2169 -91 \nQ 1331 -91 842 396 \nQ 353 884 353 1716 \nQ 353 2575 817 3079 \nQ 1281 3584 2069 3584 \nQ 2775 3584 3186 3129 \nQ 3597 2675 3597 1894 \nz\nM 3022 2063 \nQ 3016 2534 2758 2815 \nQ 2500 3097 2075 3097 \nQ 1594 3097 1305 2825 \nQ 1016 2553 972 2059 \nL 3022 2063 \nz\n\" id=\"DejaVuSans-65\" transform=\"scale(0.015625)\"/>\n       <path d=\"M 2906 1791 \nQ 2906 2416 2648 2759 \nQ 2391 3103 1925 3103 \nQ 1463 3103 1205 2759 \nQ 947 2416 947 1791 \nQ 947 1169 1205 825 \nQ 1463 481 1925 481 \nQ 2391 481 2648 825 \nQ 2906 1169 2906 1791 \nz\nM 3481 434 \nQ 3481 -459 3084 -895 \nQ 2688 -1331 1869 -1331 \nQ 1566 -1331 1297 -1286 \nQ 1028 -1241 775 -1147 \nL 775 -588 \nQ 1028 -725 1275 -790 \nQ 1522 -856 1778 -856 \nQ 2344 -856 2625 -561 \nQ 2906 -266 2906 331 \nL 2906 616 \nQ 2728 306 2450 153 \nQ 2172 0 1784 0 \nQ 1141 0 747 490 \nQ 353 981 353 1791 \nQ 353 2603 747 3093 \nQ 1141 3584 1784 3584 \nQ 2172 3584 2450 3431 \nQ 2728 3278 2906 2969 \nL 2906 3500 \nL 3481 3500 \nL 3481 434 \nz\n\" id=\"DejaVuSans-67\" transform=\"scale(0.015625)\"/>\n      </defs>\n      <use xlink:href=\"#DejaVuSans-48\"/>\n      <use x=\"75.195312\" xlink:href=\"#DejaVuSans-65\"/>\n      <use x=\"136.71875\" xlink:href=\"#DejaVuSans-69\"/>\n      <use x=\"164.501953\" xlink:href=\"#DejaVuSans-67\"/>\n      <use x=\"227.978516\" xlink:href=\"#DejaVuSans-68\"/>\n      <use x=\"291.357422\" xlink:href=\"#DejaVuSans-74\"/>\n     </g>\n    </g>\n   </g>\n   <g id=\"line2d_17\">\n    <path clip-path=\"url(#p4a622a4e8d)\" d=\"M 316.720832 56.297862 \nL 160.3003 157.88711 \nL 139.960483 171.097056 \nL 205.986593 128.215582 \nL 286.535015 75.902413 \nL 214.562694 122.645727 \nL 186.745066 140.71223 \nL 54.534108 226.578271 \nL 64.920672 219.832589 \nL 330.389395 47.420644 \nL 319.904157 54.230412 \nL 284.44998 77.256565 \nL 190.494697 138.276986 \nL 197.436233 133.768719 \nL 192.614053 136.900544 \nL 157.031171 160.010286 \nL 265.78763 89.37706 \nL 123.43894 181.827177 \nL 145.850921 167.271438 \nL 150.19689 164.448895 \nL 175.908032 147.750476 \nL 294.09005 70.995703 \nL 104.326118 194.240235 \nL 138.514687 172.036046 \nL 169.052299 152.203016 \nL 200.413629 131.835013 \nL 264.208838 90.402426 \nL 209.311495 126.056184 \nL 130.710821 177.104363 \nL 184.883121 141.921493 \nL 58.9573 223.705575 \nL 176.972 147.059468 \nL 172.089758 150.230301 \nL 226.352152 114.988918 \nL 54.280987 226.742664 \nL 287.796333 75.083235 \nL 195.664383 134.91947 \nL 309.393178 61.056897 \nL 338.965496 41.85079 \nL 59.309096 223.477097 \nL 129.119159 178.138088 \nL 59.652312 223.254191 \nL 63.719417 220.612759 \nL 168.41306 152.618178 \nL 159.991406 158.087725 \nL 278.550961 81.087756 \nL 145.846631 167.274224 \nL 135.374264 174.075633 \nL 175.135797 148.252014 \nL 325.421348 50.647204 \nL 191.910461 137.3575 \nL 304.18059 64.442277 \nL 314.48135 57.752321 \nL 230.972692 111.988051 \nL 200.855519 131.548022 \nL 324.666274 51.137596 \nL 298.993743 67.810938 \nL 277.821628 81.56143 \nL 224.584591 116.136883 \nL 181.57967 144.06696 \nL 269.271268 87.114567 \nL 183.235686 142.99144 \nL 262.698689 91.38321 \nL 224.77336 116.014284 \nL 215.909816 121.770823 \nL 156.722277 160.210901 \nL 209.225691 126.11191 \nL 164.2387 155.329268 \nL 161.857641 156.875676 \nL 213.447243 123.370171 \nL 325.996235 50.273837 \nL 117.415505 185.739171 \nL 205.724891 128.385548 \nL 147.163721 166.418824 \nL 227.497634 114.244971 \nL 262.055159 91.801159 \nL 273.278311 84.512144 \nL 186.161599 141.09117 \nL 134.799378 174.449 \nL 53.783324 227.065877 \nL 58.390994 224.073369 \nL 85.136073 206.703447 \nL 268.104335 87.872447 \nL 108.852275 191.300667 \nL 270.438202 86.356688 \nL 211.070475 124.913792 \nL 160.07721 158.031999 \nL 267.529449 88.245814 \nL 231.041335 111.94347 \nL 195.814539 134.821948 \nL 160.248818 157.920546 \nL 224.764779 116.019857 \nL 255.555513 96.022434 \nL 125.571167 180.442375 \nL 205.364515 128.619599 \nL 274.453825 83.748692 \nL 145.782278 167.316019 \nL 155.744113 160.846183 \nL 275.067323 83.350248 \nL 150.703133 164.120109 \nL 159.991406 158.087725 \nL 353.822443 32.201761 \nL 222.14776 117.719513 \nL 147.017855 166.513559 \nL 268.104335 87.872447 \nL 49.458807 229.874489 \nL 293.987085 71.062575 \nL 103.798424 194.582952 \nL 288.954686 74.330929 \nL 203.382444 129.906879 \nL 155.744113 160.846183 \nL 234.254692 109.856516 \nL 235.155633 109.271389 \nL 186.376109 140.951854 \nL 231.268716 111.795795 \nL 277.654311 81.670097 \nL 148.304913 165.677662 \nL 176.980581 147.053896 \nL 90.284308 203.359862 \nL 212.323212 124.100187 \nL 64.302884 220.233819 \nL 299.182512 67.68834 \nL 293.708222 71.243685 \nL 129.706915 177.756362 \nL 243.907632 103.587295 \nL 322.697074 52.416517 \nL 217.282678 120.8792 \n\" style=\"fill:none;stroke:#0000ff;stroke-linecap:square;stroke-width:1.5;\"/>\n   </g>\n   <g id=\"patch_3\">\n    <path d=\"M 34.240625 239.758125 \nL 34.240625 22.318125 \n\" style=\"fill:none;stroke:#000000;stroke-linecap:square;stroke-linejoin:miter;stroke-width:0.8;\"/>\n   </g>\n   <g id=\"patch_4\">\n    <path d=\"M 369.040625 239.758125 \nL 369.040625 22.318125 \n\" style=\"fill:none;stroke:#000000;stroke-linecap:square;stroke-linejoin:miter;stroke-width:0.8;\"/>\n   </g>\n   <g id=\"patch_5\">\n    <path d=\"M 34.240625 239.758125 \nL 369.040625 239.758125 \n\" style=\"fill:none;stroke:#000000;stroke-linecap:square;stroke-linejoin:miter;stroke-width:0.8;\"/>\n   </g>\n   <g id=\"patch_6\">\n    <path d=\"M 34.240625 22.318125 \nL 369.040625 22.318125 \n\" style=\"fill:none;stroke:#000000;stroke-linecap:square;stroke-linejoin:miter;stroke-width:0.8;\"/>\n   </g>\n   <g id=\"text_19\">\n    <!-- Training set -->\n    <g transform=\"translate(166.893125 16.318125)scale(0.12 -0.12)\">\n     <defs>\n      <path d=\"M -19 4666 \nL 3928 4666 \nL 3928 4134 \nL 2272 4134 \nL 2272 0 \nL 1638 0 \nL 1638 4134 \nL -19 4134 \nL -19 4666 \nz\n\" id=\"DejaVuSans-54\" transform=\"scale(0.015625)\"/>\n      <path d=\"M 2631 2963 \nQ 2534 3019 2420 3045 \nQ 2306 3072 2169 3072 \nQ 1681 3072 1420 2755 \nQ 1159 2438 1159 1844 \nL 1159 0 \nL 581 0 \nL 581 3500 \nL 1159 3500 \nL 1159 2956 \nQ 1341 3275 1631 3429 \nQ 1922 3584 2338 3584 \nQ 2397 3584 2469 3576 \nQ 2541 3569 2628 3553 \nL 2631 2963 \nz\n\" id=\"DejaVuSans-72\" transform=\"scale(0.015625)\"/>\n      <path d=\"M 2194 1759 \nQ 1497 1759 1228 1600 \nQ 959 1441 959 1056 \nQ 959 750 1161 570 \nQ 1363 391 1709 391 \nQ 2188 391 2477 730 \nQ 2766 1069 2766 1631 \nL 2766 1759 \nL 2194 1759 \nz\nM 3341 1997 \nL 3341 0 \nL 2766 0 \nL 2766 531 \nQ 2569 213 2275 61 \nQ 1981 -91 1556 -91 \nQ 1019 -91 701 211 \nQ 384 513 384 1019 \nQ 384 1609 779 1909 \nQ 1175 2209 1959 2209 \nL 2766 2209 \nL 2766 2266 \nQ 2766 2663 2505 2880 \nQ 2244 3097 1772 3097 \nQ 1472 3097 1187 3025 \nQ 903 2953 641 2809 \nL 641 3341 \nQ 956 3463 1253 3523 \nQ 1550 3584 1831 3584 \nQ 2591 3584 2966 3190 \nQ 3341 2797 3341 1997 \nz\n\" id=\"DejaVuSans-61\" transform=\"scale(0.015625)\"/>\n      <path d=\"M 3513 2113 \nL 3513 0 \nL 2938 0 \nL 2938 2094 \nQ 2938 2591 2744 2837 \nQ 2550 3084 2163 3084 \nQ 1697 3084 1428 2787 \nQ 1159 2491 1159 1978 \nL 1159 0 \nL 581 0 \nL 581 3500 \nL 1159 3500 \nL 1159 2956 \nQ 1366 3272 1645 3428 \nQ 1925 3584 2291 3584 \nQ 2894 3584 3203 3211 \nQ 3513 2838 3513 2113 \nz\n\" id=\"DejaVuSans-6e\" transform=\"scale(0.015625)\"/>\n      <path id=\"DejaVuSans-20\" transform=\"scale(0.015625)\"/>\n      <path d=\"M 2834 3397 \nL 2834 2853 \nQ 2591 2978 2328 3040 \nQ 2066 3103 1784 3103 \nQ 1356 3103 1142 2972 \nQ 928 2841 928 2578 \nQ 928 2378 1081 2264 \nQ 1234 2150 1697 2047 \nL 1894 2003 \nQ 2506 1872 2764 1633 \nQ 3022 1394 3022 966 \nQ 3022 478 2636 193 \nQ 2250 -91 1575 -91 \nQ 1294 -91 989 -36 \nQ 684 19 347 128 \nL 347 722 \nQ 666 556 975 473 \nQ 1284 391 1588 391 \nQ 1994 391 2212 530 \nQ 2431 669 2431 922 \nQ 2431 1156 2273 1281 \nQ 2116 1406 1581 1522 \nL 1381 1569 \nQ 847 1681 609 1914 \nQ 372 2147 372 2553 \nQ 372 3047 722 3315 \nQ 1072 3584 1716 3584 \nQ 2034 3584 2315 3537 \nQ 2597 3491 2834 3397 \nz\n\" id=\"DejaVuSans-73\" transform=\"scale(0.015625)\"/>\n     </defs>\n     <use xlink:href=\"#DejaVuSans-54\"/>\n     <use x=\"46.333984\" xlink:href=\"#DejaVuSans-72\"/>\n     <use x=\"87.447266\" xlink:href=\"#DejaVuSans-61\"/>\n     <use x=\"148.726562\" xlink:href=\"#DejaVuSans-69\"/>\n     <use x=\"176.509766\" xlink:href=\"#DejaVuSans-6e\"/>\n     <use x=\"239.888672\" xlink:href=\"#DejaVuSans-69\"/>\n     <use x=\"267.671875\" xlink:href=\"#DejaVuSans-6e\"/>\n     <use x=\"331.050781\" xlink:href=\"#DejaVuSans-67\"/>\n     <use x=\"394.527344\" xlink:href=\"#DejaVuSans-20\"/>\n     <use x=\"426.314453\" xlink:href=\"#DejaVuSans-73\"/>\n     <use x=\"478.414062\" xlink:href=\"#DejaVuSans-65\"/>\n     <use x=\"539.9375\" xlink:href=\"#DejaVuSans-74\"/>\n    </g>\n   </g>\n  </g>\n </g>\n <defs>\n  <clipPath id=\"p4a622a4e8d\">\n   <rect height=\"217.44\" width=\"334.8\" x=\"34.240625\" y=\"22.318125\"/>\n  </clipPath>\n </defs>\n</svg>\n",
      "image/png": "[encoded data removed]"
     },
     "metadata": {
      "needs_background": "light"
     }
    }
   ],
   "metadata": {}
  },
  {
   "cell_type": "code",
   "execution_count": 104,
   "source": [
    "plt.scatter(x_test, x_test, color = 'red')\n",
    "plt.plot(x_train, model.predict(x_train), color = 'blue')\n",
    "plt.title('Test set')\n",
    "plt.xlabel('width')\n",
    "plt.ylabel('Height')\n",
    "plt.show()"
   ],
   "outputs": [
    {
     "output_type": "display_data",
     "data": {
      "text/plain": [
       "<Figure size 432x288 with 1 Axes>"
      ],
      "image/svg+xml": "<?xml version=\"1.0\" encoding=\"utf-8\" standalone=\"no\"?>\n<!DOCTYPE svg PUBLIC \"-//W3C//DTD SVG 1.1//EN\"\n  \"http://www.w3.org/Graphics/SVG/1.1/DTD/svg11.dtd\">\n<svg height=\"277.314375pt\" version=\"1.1\" viewBox=\"0 0 376.240625 277.314375\" width=\"376.240625pt\" xmlns=\"http://www.w3.org/2000/svg\" xmlns:xlink=\"http://www.w3.org/1999/xlink\">\n <metadata>\n  <rdf:RDF xmlns:cc=\"http://creativecommons.org/ns#\" xmlns:dc=\"http://purl.org/dc/elements/1.1/\" xmlns:rdf=\"http://www.w3.org/1999/02/22-rdf-syntax-ns#\">\n   <cc:Work>\n    <dc:type rdf:resource=\"http://purl.org/dc/dcmitype/StillImage\"/>\n    <dc:date>2021-08-10T19:16:36.186859</dc:date>\n    <dc:format>image/svg+xml</dc:format>\n    <dc:creator>\n     <cc:Agent>\n      <dc:title>Matplotlib v3.4.2, https://matplotlib.org/</dc:title>\n     </cc:Agent>\n    </dc:creator>\n   </cc:Work>\n  </rdf:RDF>\n </metadata>\n <defs>\n  <style type=\"text/css\">*{stroke-linecap:butt;stroke-linejoin:round;}</style>\n </defs>\n <g id=\"figure_1\">\n  <g id=\"patch_1\">\n   <path d=\"M 0 277.314375 \nL 376.240625 277.314375 \nL 376.240625 0 \nL 0 0 \nz\n\" style=\"fill:none;\"/>\n  </g>\n  <g id=\"axes_1\">\n   <g id=\"patch_2\">\n    <path d=\"M 34.240625 239.758125 \nL 369.040625 239.758125 \nL 369.040625 22.318125 \nL 34.240625 22.318125 \nz\n\" style=\"fill:#ffffff;\"/>\n   </g>\n   <g id=\"PathCollection_1\">\n    <defs>\n     <path d=\"M 0 3 \nC 0.795609 3 1.55874 2.683901 2.12132 2.12132 \nC 2.683901 1.55874 3 0.795609 3 0 \nC 3 -0.795609 2.683901 -1.55874 2.12132 -2.12132 \nC 1.55874 -2.683901 0.795609 -3 0 -3 \nC -0.795609 -3 -1.55874 -2.683901 -2.12132 -2.12132 \nC -2.683901 -1.55874 -3 -0.795609 -3 0 \nC -3 0.795609 -2.683901 1.55874 -2.12132 2.12132 \nC -1.55874 2.683901 -0.795609 3 0 3 \nz\n\" id=\"mf360a8075b\" style=\"stroke:#ff0000;\"/>\n    </defs>\n    <g clip-path=\"url(#p92737df356)\">\n     <use style=\"fill:#ff0000;stroke:#ff0000;\" x=\"101.816354\" xlink:href=\"#mf360a8075b\" y=\"195.870232\"/>\n     <use style=\"fill:#ff0000;stroke:#ff0000;\" x=\"156.13023\" xlink:href=\"#mf360a8075b\" y=\"160.595414\"/>\n     <use style=\"fill:#ff0000;stroke:#ff0000;\" x=\"167.54215\" xlink:href=\"#mf360a8075b\" y=\"153.183801\"/>\n     <use style=\"fill:#ff0000;stroke:#ff0000;\" x=\"244.29375\" xlink:href=\"#mf360a8075b\" y=\"103.336526\"/>\n     <use style=\"fill:#ff0000;stroke:#ff0000;\" x=\"182.901051\" xlink:href=\"#mf360a8075b\" y=\"143.208773\"/>\n     <use style=\"fill:#ff0000;stroke:#ff0000;\" x=\"164.324504\" xlink:href=\"#mf360a8075b\" y=\"155.273541\"/>\n     <use style=\"fill:#ff0000;stroke:#ff0000;\" x=\"149.33456\" xlink:href=\"#mf360a8075b\" y=\"165.008946\"/>\n     <use style=\"fill:#ff0000;stroke:#ff0000;\" x=\"223.494881\" xlink:href=\"#mf360a8075b\" y=\"116.844608\"/>\n     <use style=\"fill:#ff0000;stroke:#ff0000;\" x=\"286.037353\" xlink:href=\"#mf360a8075b\" y=\"76.225627\"/>\n     <use style=\"fill:#ff0000;stroke:#ff0000;\" x=\"190.494697\" xlink:href=\"#mf360a8075b\" y=\"138.276986\"/>\n     <use style=\"fill:#ff0000;stroke:#ff0000;\" x=\"161.690324\" xlink:href=\"#mf360a8075b\" y=\"156.984342\"/>\n     <use style=\"fill:#ff0000;stroke:#ff0000;\" x=\"119.191646\" xlink:href=\"#mf360a8075b\" y=\"184.585634\"/>\n     <use style=\"fill:#ff0000;stroke:#ff0000;\" x=\"157.854889\" xlink:href=\"#mf360a8075b\" y=\"159.475313\"/>\n     <use style=\"fill:#ff0000;stroke:#ff0000;\" x=\"243.457161\" xlink:href=\"#mf360a8075b\" y=\"103.879858\"/>\n     <use style=\"fill:#ff0000;stroke:#ff0000;\" x=\"140.711267\" xlink:href=\"#mf360a8075b\" y=\"170.60945\"/>\n     <use style=\"fill:#ff0000;stroke:#ff0000;\" x=\"59.592249\" xlink:href=\"#mf360a8075b\" y=\"223.293199\"/>\n     <use style=\"fill:#ff0000;stroke:#ff0000;\" x=\"182.300423\" xlink:href=\"#mf360a8075b\" y=\"143.598858\"/>\n     <use style=\"fill:#ff0000;stroke:#ff0000;\" x=\"189.233379\" xlink:href=\"#mf360a8075b\" y=\"139.096164\"/>\n     <use style=\"fill:#ff0000;stroke:#ff0000;\" x=\"150.827548\" xlink:href=\"#mf360a8075b\" y=\"164.039306\"/>\n     <use style=\"fill:#ff0000;stroke:#ff0000;\" x=\"162.544073\" xlink:href=\"#mf360a8075b\" y=\"156.429864\"/>\n     <use style=\"fill:#ff0000;stroke:#ff0000;\" x=\"250.239961\" xlink:href=\"#mf360a8075b\" y=\"99.474685\"/>\n     <use style=\"fill:#ff0000;stroke:#ff0000;\" x=\"168.614699\" xlink:href=\"#mf360a8075b\" y=\"152.487221\"/>\n     <use style=\"fill:#ff0000;stroke:#ff0000;\" x=\"93.201641\" xlink:href=\"#mf360a8075b\" y=\"201.465164\"/>\n     <use style=\"fill:#ff0000;stroke:#ff0000;\" x=\"224.914936\" xlink:href=\"#mf360a8075b\" y=\"115.922336\"/>\n     <use style=\"fill:#ff0000;stroke:#ff0000;\" x=\"234.915382\" xlink:href=\"#mf360a8075b\" y=\"109.427423\"/>\n     <use style=\"fill:#ff0000;stroke:#ff0000;\" x=\"165.585821\" xlink:href=\"#mf360a8075b\" y=\"154.454363\"/>\n     <use style=\"fill:#ff0000;stroke:#ff0000;\" x=\"146.412937\" xlink:href=\"#mf360a8075b\" y=\"166.90643\"/>\n     <use style=\"fill:#ff0000;stroke:#ff0000;\" x=\"186.783678\" xlink:href=\"#mf360a8075b\" y=\"140.687153\"/>\n     <use style=\"fill:#ff0000;stroke:#ff0000;\" x=\"189.958422\" xlink:href=\"#mf360a8075b\" y=\"138.625276\"/>\n     <use style=\"fill:#ff0000;stroke:#ff0000;\" x=\"53.783324\" xlink:href=\"#mf360a8075b\" y=\"227.065877\"/>\n     <use style=\"fill:#ff0000;stroke:#ff0000;\" x=\"155.744113\" xlink:href=\"#mf360a8075b\" y=\"160.846183\"/>\n     <use style=\"fill:#ff0000;stroke:#ff0000;\" x=\"182.300423\" xlink:href=\"#mf360a8075b\" y=\"143.598858\"/>\n    </g>\n   </g>\n   <g id=\"matplotlib.axis_1\">\n    <g id=\"xtick_1\">\n     <g id=\"line2d_1\">\n      <defs>\n       <path d=\"M 0 0 \nL 0 3.5 \n\" id=\"m25a4c24e9d\" style=\"stroke:#000000;stroke-width:0.8;\"/>\n      </defs>\n      <g>\n       <use style=\"stroke:#000000;stroke-width:0.8;\" x=\"47.416674\" xlink:href=\"#m25a4c24e9d\" y=\"239.758125\"/>\n      </g>\n     </g>\n     <g id=\"text_1\">\n      <!-- 1 -->\n      <g transform=\"translate(44.235424 254.356562)scale(0.1 -0.1)\">\n       <defs>\n        <path d=\"M 794 531 \nL 1825 531 \nL 1825 4091 \nL 703 3866 \nL 703 4441 \nL 1819 4666 \nL 2450 4666 \nL 2450 531 \nL 3481 531 \nL 3481 0 \nL 794 0 \nL 794 531 \nz\n\" id=\"DejaVuSans-31\" transform=\"scale(0.015625)\"/>\n       </defs>\n       <use xlink:href=\"#DejaVuSans-31\"/>\n      </g>\n     </g>\n    </g>\n    <g id=\"xtick_2\">\n     <g id=\"line2d_2\">\n      <g>\n       <use style=\"stroke:#000000;stroke-width:0.8;\" x=\"90.31863\" xlink:href=\"#m25a4c24e9d\" y=\"239.758125\"/>\n      </g>\n     </g>\n     <g id=\"text_2\">\n      <!-- 2 -->\n      <g transform=\"translate(87.13738 254.356562)scale(0.1 -0.1)\">\n       <defs>\n        <path d=\"M 1228 531 \nL 3431 531 \nL 3431 0 \nL 469 0 \nL 469 531 \nQ 828 903 1448 1529 \nQ 2069 2156 2228 2338 \nQ 2531 2678 2651 2914 \nQ 2772 3150 2772 3378 \nQ 2772 3750 2511 3984 \nQ 2250 4219 1831 4219 \nQ 1534 4219 1204 4116 \nQ 875 4013 500 3803 \nL 500 4441 \nQ 881 4594 1212 4672 \nQ 1544 4750 1819 4750 \nQ 2544 4750 2975 4387 \nQ 3406 4025 3406 3419 \nQ 3406 3131 3298 2873 \nQ 3191 2616 2906 2266 \nQ 2828 2175 2409 1742 \nQ 1991 1309 1228 531 \nz\n\" id=\"DejaVuSans-32\" transform=\"scale(0.015625)\"/>\n       </defs>\n       <use xlink:href=\"#DejaVuSans-32\"/>\n      </g>\n     </g>\n    </g>\n    <g id=\"xtick_3\">\n     <g id=\"line2d_3\">\n      <g>\n       <use style=\"stroke:#000000;stroke-width:0.8;\" x=\"133.220586\" xlink:href=\"#m25a4c24e9d\" y=\"239.758125\"/>\n      </g>\n     </g>\n     <g id=\"text_3\">\n      <!-- 3 -->\n      <g transform=\"translate(130.039336 254.356562)scale(0.1 -0.1)\">\n       <defs>\n        <path d=\"M 2597 2516 \nQ 3050 2419 3304 2112 \nQ 3559 1806 3559 1356 \nQ 3559 666 3084 287 \nQ 2609 -91 1734 -91 \nQ 1441 -91 1130 -33 \nQ 819 25 488 141 \nL 488 750 \nQ 750 597 1062 519 \nQ 1375 441 1716 441 \nQ 2309 441 2620 675 \nQ 2931 909 2931 1356 \nQ 2931 1769 2642 2001 \nQ 2353 2234 1838 2234 \nL 1294 2234 \nL 1294 2753 \nL 1863 2753 \nQ 2328 2753 2575 2939 \nQ 2822 3125 2822 3475 \nQ 2822 3834 2567 4026 \nQ 2313 4219 1838 4219 \nQ 1578 4219 1281 4162 \nQ 984 4106 628 3988 \nL 628 4550 \nQ 988 4650 1302 4700 \nQ 1616 4750 1894 4750 \nQ 2613 4750 3031 4423 \nQ 3450 4097 3450 3541 \nQ 3450 3153 3228 2886 \nQ 3006 2619 2597 2516 \nz\n\" id=\"DejaVuSans-33\" transform=\"scale(0.015625)\"/>\n       </defs>\n       <use xlink:href=\"#DejaVuSans-33\"/>\n      </g>\n     </g>\n    </g>\n    <g id=\"xtick_4\">\n     <g id=\"line2d_4\">\n      <g>\n       <use style=\"stroke:#000000;stroke-width:0.8;\" x=\"176.122542\" xlink:href=\"#m25a4c24e9d\" y=\"239.758125\"/>\n      </g>\n     </g>\n     <g id=\"text_4\">\n      <!-- 4 -->\n      <g transform=\"translate(172.941292 254.356562)scale(0.1 -0.1)\">\n       <defs>\n        <path d=\"M 2419 4116 \nL 825 1625 \nL 2419 1625 \nL 2419 4116 \nz\nM 2253 4666 \nL 3047 4666 \nL 3047 1625 \nL 3713 1625 \nL 3713 1100 \nL 3047 1100 \nL 3047 0 \nL 2419 0 \nL 2419 1100 \nL 313 1100 \nL 313 1709 \nL 2253 4666 \nz\n\" id=\"DejaVuSans-34\" transform=\"scale(0.015625)\"/>\n       </defs>\n       <use xlink:href=\"#DejaVuSans-34\"/>\n      </g>\n     </g>\n    </g>\n    <g id=\"xtick_5\">\n     <g id=\"line2d_5\">\n      <g>\n       <use style=\"stroke:#000000;stroke-width:0.8;\" x=\"219.024498\" xlink:href=\"#m25a4c24e9d\" y=\"239.758125\"/>\n      </g>\n     </g>\n     <g id=\"text_5\">\n      <!-- 5 -->\n      <g transform=\"translate(215.843248 254.356562)scale(0.1 -0.1)\">\n       <defs>\n        <path d=\"M 691 4666 \nL 3169 4666 \nL 3169 4134 \nL 1269 4134 \nL 1269 2991 \nQ 1406 3038 1543 3061 \nQ 1681 3084 1819 3084 \nQ 2600 3084 3056 2656 \nQ 3513 2228 3513 1497 \nQ 3513 744 3044 326 \nQ 2575 -91 1722 -91 \nQ 1428 -91 1123 -41 \nQ 819 9 494 109 \nL 494 744 \nQ 775 591 1075 516 \nQ 1375 441 1709 441 \nQ 2250 441 2565 725 \nQ 2881 1009 2881 1497 \nQ 2881 1984 2565 2268 \nQ 2250 2553 1709 2553 \nQ 1456 2553 1204 2497 \nQ 953 2441 691 2322 \nL 691 4666 \nz\n\" id=\"DejaVuSans-35\" transform=\"scale(0.015625)\"/>\n       </defs>\n       <use xlink:href=\"#DejaVuSans-35\"/>\n      </g>\n     </g>\n    </g>\n    <g id=\"xtick_6\">\n     <g id=\"line2d_6\">\n      <g>\n       <use style=\"stroke:#000000;stroke-width:0.8;\" x=\"261.926454\" xlink:href=\"#m25a4c24e9d\" y=\"239.758125\"/>\n      </g>\n     </g>\n     <g id=\"text_6\">\n      <!-- 6 -->\n      <g transform=\"translate(258.745204 254.356562)scale(0.1 -0.1)\">\n       <defs>\n        <path d=\"M 2113 2584 \nQ 1688 2584 1439 2293 \nQ 1191 2003 1191 1497 \nQ 1191 994 1439 701 \nQ 1688 409 2113 409 \nQ 2538 409 2786 701 \nQ 3034 994 3034 1497 \nQ 3034 2003 2786 2293 \nQ 2538 2584 2113 2584 \nz\nM 3366 4563 \nL 3366 3988 \nQ 3128 4100 2886 4159 \nQ 2644 4219 2406 4219 \nQ 1781 4219 1451 3797 \nQ 1122 3375 1075 2522 \nQ 1259 2794 1537 2939 \nQ 1816 3084 2150 3084 \nQ 2853 3084 3261 2657 \nQ 3669 2231 3669 1497 \nQ 3669 778 3244 343 \nQ 2819 -91 2113 -91 \nQ 1303 -91 875 529 \nQ 447 1150 447 2328 \nQ 447 3434 972 4092 \nQ 1497 4750 2381 4750 \nQ 2619 4750 2861 4703 \nQ 3103 4656 3366 4563 \nz\n\" id=\"DejaVuSans-36\" transform=\"scale(0.015625)\"/>\n       </defs>\n       <use xlink:href=\"#DejaVuSans-36\"/>\n      </g>\n     </g>\n    </g>\n    <g id=\"xtick_7\">\n     <g id=\"line2d_7\">\n      <g>\n       <use style=\"stroke:#000000;stroke-width:0.8;\" x=\"304.828409\" xlink:href=\"#m25a4c24e9d\" y=\"239.758125\"/>\n      </g>\n     </g>\n     <g id=\"text_7\">\n      <!-- 7 -->\n      <g transform=\"translate(301.647159 254.356562)scale(0.1 -0.1)\">\n       <defs>\n        <path d=\"M 525 4666 \nL 3525 4666 \nL 3525 4397 \nL 1831 0 \nL 1172 0 \nL 2766 4134 \nL 525 4134 \nL 525 4666 \nz\n\" id=\"DejaVuSans-37\" transform=\"scale(0.015625)\"/>\n       </defs>\n       <use xlink:href=\"#DejaVuSans-37\"/>\n      </g>\n     </g>\n    </g>\n    <g id=\"xtick_8\">\n     <g id=\"line2d_8\">\n      <g>\n       <use style=\"stroke:#000000;stroke-width:0.8;\" x=\"347.730365\" xlink:href=\"#m25a4c24e9d\" y=\"239.758125\"/>\n      </g>\n     </g>\n     <g id=\"text_8\">\n      <!-- 8 -->\n      <g transform=\"translate(344.549115 254.356562)scale(0.1 -0.1)\">\n       <defs>\n        <path d=\"M 2034 2216 \nQ 1584 2216 1326 1975 \nQ 1069 1734 1069 1313 \nQ 1069 891 1326 650 \nQ 1584 409 2034 409 \nQ 2484 409 2743 651 \nQ 3003 894 3003 1313 \nQ 3003 1734 2745 1975 \nQ 2488 2216 2034 2216 \nz\nM 1403 2484 \nQ 997 2584 770 2862 \nQ 544 3141 544 3541 \nQ 544 4100 942 4425 \nQ 1341 4750 2034 4750 \nQ 2731 4750 3128 4425 \nQ 3525 4100 3525 3541 \nQ 3525 3141 3298 2862 \nQ 3072 2584 2669 2484 \nQ 3125 2378 3379 2068 \nQ 3634 1759 3634 1313 \nQ 3634 634 3220 271 \nQ 2806 -91 2034 -91 \nQ 1263 -91 848 271 \nQ 434 634 434 1313 \nQ 434 1759 690 2068 \nQ 947 2378 1403 2484 \nz\nM 1172 3481 \nQ 1172 3119 1398 2916 \nQ 1625 2713 2034 2713 \nQ 2441 2713 2670 2916 \nQ 2900 3119 2900 3481 \nQ 2900 3844 2670 4047 \nQ 2441 4250 2034 4250 \nQ 1625 4250 1398 4047 \nQ 1172 3844 1172 3481 \nz\n\" id=\"DejaVuSans-38\" transform=\"scale(0.015625)\"/>\n       </defs>\n       <use xlink:href=\"#DejaVuSans-38\"/>\n      </g>\n     </g>\n    </g>\n    <g id=\"text_9\">\n     <!-- width -->\n     <g transform=\"translate(187.859375 268.034687)scale(0.1 -0.1)\">\n      <defs>\n       <path d=\"M 269 3500 \nL 844 3500 \nL 1563 769 \nL 2278 3500 \nL 2956 3500 \nL 3675 769 \nL 4391 3500 \nL 4966 3500 \nL 4050 0 \nL 3372 0 \nL 2619 2869 \nL 1863 0 \nL 1184 0 \nL 269 3500 \nz\n\" id=\"DejaVuSans-77\" transform=\"scale(0.015625)\"/>\n       <path d=\"M 603 3500 \nL 1178 3500 \nL 1178 0 \nL 603 0 \nL 603 3500 \nz\nM 603 4863 \nL 1178 4863 \nL 1178 4134 \nL 603 4134 \nL 603 4863 \nz\n\" id=\"DejaVuSans-69\" transform=\"scale(0.015625)\"/>\n       <path d=\"M 2906 2969 \nL 2906 4863 \nL 3481 4863 \nL 3481 0 \nL 2906 0 \nL 2906 525 \nQ 2725 213 2448 61 \nQ 2172 -91 1784 -91 \nQ 1150 -91 751 415 \nQ 353 922 353 1747 \nQ 353 2572 751 3078 \nQ 1150 3584 1784 3584 \nQ 2172 3584 2448 3432 \nQ 2725 3281 2906 2969 \nz\nM 947 1747 \nQ 947 1113 1208 752 \nQ 1469 391 1925 391 \nQ 2381 391 2643 752 \nQ 2906 1113 2906 1747 \nQ 2906 2381 2643 2742 \nQ 2381 3103 1925 3103 \nQ 1469 3103 1208 2742 \nQ 947 2381 947 1747 \nz\n\" id=\"DejaVuSans-64\" transform=\"scale(0.015625)\"/>\n       <path d=\"M 1172 4494 \nL 1172 3500 \nL 2356 3500 \nL 2356 3053 \nL 1172 3053 \nL 1172 1153 \nQ 1172 725 1289 603 \nQ 1406 481 1766 481 \nL 2356 481 \nL 2356 0 \nL 1766 0 \nQ 1100 0 847 248 \nQ 594 497 594 1153 \nL 594 3053 \nL 172 3053 \nL 172 3500 \nL 594 3500 \nL 594 4494 \nL 1172 4494 \nz\n\" id=\"DejaVuSans-74\" transform=\"scale(0.015625)\"/>\n       <path d=\"M 3513 2113 \nL 3513 0 \nL 2938 0 \nL 2938 2094 \nQ 2938 2591 2744 2837 \nQ 2550 3084 2163 3084 \nQ 1697 3084 1428 2787 \nQ 1159 2491 1159 1978 \nL 1159 0 \nL 581 0 \nL 581 4863 \nL 1159 4863 \nL 1159 2956 \nQ 1366 3272 1645 3428 \nQ 1925 3584 2291 3584 \nQ 2894 3584 3203 3211 \nQ 3513 2838 3513 2113 \nz\n\" id=\"DejaVuSans-68\" transform=\"scale(0.015625)\"/>\n      </defs>\n      <use xlink:href=\"#DejaVuSans-77\"/>\n      <use x=\"81.787109\" xlink:href=\"#DejaVuSans-69\"/>\n      <use x=\"109.570312\" xlink:href=\"#DejaVuSans-64\"/>\n      <use x=\"173.046875\" xlink:href=\"#DejaVuSans-74\"/>\n      <use x=\"212.255859\" xlink:href=\"#DejaVuSans-68\"/>\n     </g>\n    </g>\n   </g>\n   <g id=\"matplotlib.axis_2\">\n    <g id=\"ytick_1\">\n     <g id=\"line2d_9\">\n      <defs>\n       <path d=\"M 0 0 \nL -3.5 0 \n\" id=\"mf86c20224e\" style=\"stroke:#000000;stroke-width:0.8;\"/>\n      </defs>\n      <g>\n       <use style=\"stroke:#000000;stroke-width:0.8;\" x=\"34.240625\" xlink:href=\"#mf86c20224e\" y=\"231.200777\"/>\n      </g>\n     </g>\n     <g id=\"text_10\">\n      <!-- 1 -->\n      <g transform=\"translate(20.878125 234.999996)scale(0.1 -0.1)\">\n       <use xlink:href=\"#DejaVuSans-31\"/>\n      </g>\n     </g>\n    </g>\n    <g id=\"ytick_2\">\n     <g id=\"line2d_10\">\n      <g>\n       <use style=\"stroke:#000000;stroke-width:0.8;\" x=\"34.240625\" xlink:href=\"#mf86c20224e\" y=\"203.337571\"/>\n      </g>\n     </g>\n     <g id=\"text_11\">\n      <!-- 2 -->\n      <g transform=\"translate(20.878125 207.13679)scale(0.1 -0.1)\">\n       <use xlink:href=\"#DejaVuSans-32\"/>\n      </g>\n     </g>\n    </g>\n    <g id=\"ytick_3\">\n     <g id=\"line2d_11\">\n      <g>\n       <use style=\"stroke:#000000;stroke-width:0.8;\" x=\"34.240625\" xlink:href=\"#mf86c20224e\" y=\"175.474366\"/>\n      </g>\n     </g>\n     <g id=\"text_12\">\n      <!-- 3 -->\n      <g transform=\"translate(20.878125 179.273584)scale(0.1 -0.1)\">\n       <use xlink:href=\"#DejaVuSans-33\"/>\n      </g>\n     </g>\n    </g>\n    <g id=\"ytick_4\">\n     <g id=\"line2d_12\">\n      <g>\n       <use style=\"stroke:#000000;stroke-width:0.8;\" x=\"34.240625\" xlink:href=\"#mf86c20224e\" y=\"147.61116\"/>\n      </g>\n     </g>\n     <g id=\"text_13\">\n      <!-- 4 -->\n      <g transform=\"translate(20.878125 151.410379)scale(0.1 -0.1)\">\n       <use xlink:href=\"#DejaVuSans-34\"/>\n      </g>\n     </g>\n    </g>\n    <g id=\"ytick_5\">\n     <g id=\"line2d_13\">\n      <g>\n       <use style=\"stroke:#000000;stroke-width:0.8;\" x=\"34.240625\" xlink:href=\"#mf86c20224e\" y=\"119.747954\"/>\n      </g>\n     </g>\n     <g id=\"text_14\">\n      <!-- 5 -->\n      <g transform=\"translate(20.878125 123.547173)scale(0.1 -0.1)\">\n       <use xlink:href=\"#DejaVuSans-35\"/>\n      </g>\n     </g>\n    </g>\n    <g id=\"ytick_6\">\n     <g id=\"line2d_14\">\n      <g>\n       <use style=\"stroke:#000000;stroke-width:0.8;\" x=\"34.240625\" xlink:href=\"#mf86c20224e\" y=\"91.884748\"/>\n      </g>\n     </g>\n     <g id=\"text_15\">\n      <!-- 6 -->\n      <g transform=\"translate(20.878125 95.683967)scale(0.1 -0.1)\">\n       <use xlink:href=\"#DejaVuSans-36\"/>\n      </g>\n     </g>\n    </g>\n    <g id=\"ytick_7\">\n     <g id=\"line2d_15\">\n      <g>\n       <use style=\"stroke:#000000;stroke-width:0.8;\" x=\"34.240625\" xlink:href=\"#mf86c20224e\" y=\"64.021542\"/>\n      </g>\n     </g>\n     <g id=\"text_16\">\n      <!-- 7 -->\n      <g transform=\"translate(20.878125 67.820761)scale(0.1 -0.1)\">\n       <use xlink:href=\"#DejaVuSans-37\"/>\n      </g>\n     </g>\n    </g>\n    <g id=\"ytick_8\">\n     <g id=\"line2d_16\">\n      <g>\n       <use style=\"stroke:#000000;stroke-width:0.8;\" x=\"34.240625\" xlink:href=\"#mf86c20224e\" y=\"36.158337\"/>\n      </g>\n     </g>\n     <g id=\"text_17\">\n      <!-- 8 -->\n      <g transform=\"translate(20.878125 39.957555)scale(0.1 -0.1)\">\n       <use xlink:href=\"#DejaVuSans-38\"/>\n      </g>\n     </g>\n    </g>\n    <g id=\"text_18\">\n     <!-- Height -->\n     <g transform=\"translate(14.798437 147.567031)rotate(-90)scale(0.1 -0.1)\">\n      <defs>\n       <path d=\"M 628 4666 \nL 1259 4666 \nL 1259 2753 \nL 3553 2753 \nL 3553 4666 \nL 4184 4666 \nL 4184 0 \nL 3553 0 \nL 3553 2222 \nL 1259 2222 \nL 1259 0 \nL 628 0 \nL 628 4666 \nz\n\" id=\"DejaVuSans-48\" transform=\"scale(0.015625)\"/>\n       <path d=\"M 3597 1894 \nL 3597 1613 \nL 953 1613 \nQ 991 1019 1311 708 \nQ 1631 397 2203 397 \nQ 2534 397 2845 478 \nQ 3156 559 3463 722 \nL 3463 178 \nQ 3153 47 2828 -22 \nQ 2503 -91 2169 -91 \nQ 1331 -91 842 396 \nQ 353 884 353 1716 \nQ 353 2575 817 3079 \nQ 1281 3584 2069 3584 \nQ 2775 3584 3186 3129 \nQ 3597 2675 3597 1894 \nz\nM 3022 2063 \nQ 3016 2534 2758 2815 \nQ 2500 3097 2075 3097 \nQ 1594 3097 1305 2825 \nQ 1016 2553 972 2059 \nL 3022 2063 \nz\n\" id=\"DejaVuSans-65\" transform=\"scale(0.015625)\"/>\n       <path d=\"M 2906 1791 \nQ 2906 2416 2648 2759 \nQ 2391 3103 1925 3103 \nQ 1463 3103 1205 2759 \nQ 947 2416 947 1791 \nQ 947 1169 1205 825 \nQ 1463 481 1925 481 \nQ 2391 481 2648 825 \nQ 2906 1169 2906 1791 \nz\nM 3481 434 \nQ 3481 -459 3084 -895 \nQ 2688 -1331 1869 -1331 \nQ 1566 -1331 1297 -1286 \nQ 1028 -1241 775 -1147 \nL 775 -588 \nQ 1028 -725 1275 -790 \nQ 1522 -856 1778 -856 \nQ 2344 -856 2625 -561 \nQ 2906 -266 2906 331 \nL 2906 616 \nQ 2728 306 2450 153 \nQ 2172 0 1784 0 \nQ 1141 0 747 490 \nQ 353 981 353 1791 \nQ 353 2603 747 3093 \nQ 1141 3584 1784 3584 \nQ 2172 3584 2450 3431 \nQ 2728 3278 2906 2969 \nL 2906 3500 \nL 3481 3500 \nL 3481 434 \nz\n\" id=\"DejaVuSans-67\" transform=\"scale(0.015625)\"/>\n      </defs>\n      <use xlink:href=\"#DejaVuSans-48\"/>\n      <use x=\"75.195312\" xlink:href=\"#DejaVuSans-65\"/>\n      <use x=\"136.71875\" xlink:href=\"#DejaVuSans-69\"/>\n      <use x=\"164.501953\" xlink:href=\"#DejaVuSans-67\"/>\n      <use x=\"227.978516\" xlink:href=\"#DejaVuSans-68\"/>\n      <use x=\"291.357422\" xlink:href=\"#DejaVuSans-74\"/>\n     </g>\n    </g>\n   </g>\n   <g id=\"line2d_17\">\n    <path clip-path=\"url(#p92737df356)\" d=\"M 316.720832 56.297862 \nL 160.3003 157.88711 \nL 139.960483 171.097056 \nL 205.986593 128.215582 \nL 286.535015 75.902413 \nL 214.562694 122.645727 \nL 186.745066 140.71223 \nL 54.534108 226.578271 \nL 64.920672 219.832589 \nL 330.389395 47.420644 \nL 319.904157 54.230412 \nL 284.44998 77.256565 \nL 190.494697 138.276986 \nL 197.436233 133.768719 \nL 192.614053 136.900544 \nL 157.031171 160.010286 \nL 265.78763 89.37706 \nL 123.43894 181.827177 \nL 145.850921 167.271438 \nL 150.19689 164.448895 \nL 175.908032 147.750476 \nL 294.09005 70.995703 \nL 104.326118 194.240235 \nL 138.514687 172.036046 \nL 169.052299 152.203016 \nL 200.413629 131.835013 \nL 264.208838 90.402426 \nL 209.311495 126.056184 \nL 130.710821 177.104363 \nL 184.883121 141.921493 \nL 58.9573 223.705575 \nL 176.972 147.059468 \nL 172.089758 150.230301 \nL 226.352152 114.988918 \nL 54.280987 226.742664 \nL 287.796333 75.083235 \nL 195.664383 134.91947 \nL 309.393178 61.056897 \nL 338.965496 41.85079 \nL 59.309096 223.477097 \nL 129.119159 178.138088 \nL 59.652312 223.254191 \nL 63.719417 220.612759 \nL 168.41306 152.618178 \nL 159.991406 158.087725 \nL 278.550961 81.087756 \nL 145.846631 167.274224 \nL 135.374264 174.075633 \nL 175.135797 148.252014 \nL 325.421348 50.647204 \nL 191.910461 137.3575 \nL 304.18059 64.442277 \nL 314.48135 57.752321 \nL 230.972692 111.988051 \nL 200.855519 131.548022 \nL 324.666274 51.137596 \nL 298.993743 67.810938 \nL 277.821628 81.56143 \nL 224.584591 116.136883 \nL 181.57967 144.06696 \nL 269.271268 87.114567 \nL 183.235686 142.99144 \nL 262.698689 91.38321 \nL 224.77336 116.014284 \nL 215.909816 121.770823 \nL 156.722277 160.210901 \nL 209.225691 126.11191 \nL 164.2387 155.329268 \nL 161.857641 156.875676 \nL 213.447243 123.370171 \nL 325.996235 50.273837 \nL 117.415505 185.739171 \nL 205.724891 128.385548 \nL 147.163721 166.418824 \nL 227.497634 114.244971 \nL 262.055159 91.801159 \nL 273.278311 84.512144 \nL 186.161599 141.09117 \nL 134.799378 174.449 \nL 53.783324 227.065877 \nL 58.390994 224.073369 \nL 85.136073 206.703447 \nL 268.104335 87.872447 \nL 108.852275 191.300667 \nL 270.438202 86.356688 \nL 211.070475 124.913792 \nL 160.07721 158.031999 \nL 267.529449 88.245814 \nL 231.041335 111.94347 \nL 195.814539 134.821948 \nL 160.248818 157.920546 \nL 224.764779 116.019857 \nL 255.555513 96.022434 \nL 125.571167 180.442375 \nL 205.364515 128.619599 \nL 274.453825 83.748692 \nL 145.782278 167.316019 \nL 155.744113 160.846183 \nL 275.067323 83.350248 \nL 150.703133 164.120109 \nL 159.991406 158.087725 \nL 353.822443 32.201761 \nL 222.14776 117.719513 \nL 147.017855 166.513559 \nL 268.104335 87.872447 \nL 49.458807 229.874489 \nL 293.987085 71.062575 \nL 103.798424 194.582952 \nL 288.954686 74.330929 \nL 203.382444 129.906879 \nL 155.744113 160.846183 \nL 234.254692 109.856516 \nL 235.155633 109.271389 \nL 186.376109 140.951854 \nL 231.268716 111.795795 \nL 277.654311 81.670097 \nL 148.304913 165.677662 \nL 176.980581 147.053896 \nL 90.284308 203.359862 \nL 212.323212 124.100187 \nL 64.302884 220.233819 \nL 299.182512 67.68834 \nL 293.708222 71.243685 \nL 129.706915 177.756362 \nL 243.907632 103.587295 \nL 322.697074 52.416517 \nL 217.282678 120.8792 \n\" style=\"fill:none;stroke:#0000ff;stroke-linecap:square;stroke-width:1.5;\"/>\n   </g>\n   <g id=\"patch_3\">\n    <path d=\"M 34.240625 239.758125 \nL 34.240625 22.318125 \n\" style=\"fill:none;stroke:#000000;stroke-linecap:square;stroke-linejoin:miter;stroke-width:0.8;\"/>\n   </g>\n   <g id=\"patch_4\">\n    <path d=\"M 369.040625 239.758125 \nL 369.040625 22.318125 \n\" style=\"fill:none;stroke:#000000;stroke-linecap:square;stroke-linejoin:miter;stroke-width:0.8;\"/>\n   </g>\n   <g id=\"patch_5\">\n    <path d=\"M 34.240625 239.758125 \nL 369.040625 239.758125 \n\" style=\"fill:none;stroke:#000000;stroke-linecap:square;stroke-linejoin:miter;stroke-width:0.8;\"/>\n   </g>\n   <g id=\"patch_6\">\n    <path d=\"M 34.240625 22.318125 \nL 369.040625 22.318125 \n\" style=\"fill:none;stroke:#000000;stroke-linecap:square;stroke-linejoin:miter;stroke-width:0.8;\"/>\n   </g>\n   <g id=\"text_19\">\n    <!-- Test set -->\n    <g transform=\"translate(178.749688 16.318125)scale(0.12 -0.12)\">\n     <defs>\n      <path d=\"M -19 4666 \nL 3928 4666 \nL 3928 4134 \nL 2272 4134 \nL 2272 0 \nL 1638 0 \nL 1638 4134 \nL -19 4134 \nL -19 4666 \nz\n\" id=\"DejaVuSans-54\" transform=\"scale(0.015625)\"/>\n      <path d=\"M 2834 3397 \nL 2834 2853 \nQ 2591 2978 2328 3040 \nQ 2066 3103 1784 3103 \nQ 1356 3103 1142 2972 \nQ 928 2841 928 2578 \nQ 928 2378 1081 2264 \nQ 1234 2150 1697 2047 \nL 1894 2003 \nQ 2506 1872 2764 1633 \nQ 3022 1394 3022 966 \nQ 3022 478 2636 193 \nQ 2250 -91 1575 -91 \nQ 1294 -91 989 -36 \nQ 684 19 347 128 \nL 347 722 \nQ 666 556 975 473 \nQ 1284 391 1588 391 \nQ 1994 391 2212 530 \nQ 2431 669 2431 922 \nQ 2431 1156 2273 1281 \nQ 2116 1406 1581 1522 \nL 1381 1569 \nQ 847 1681 609 1914 \nQ 372 2147 372 2553 \nQ 372 3047 722 3315 \nQ 1072 3584 1716 3584 \nQ 2034 3584 2315 3537 \nQ 2597 3491 2834 3397 \nz\n\" id=\"DejaVuSans-73\" transform=\"scale(0.015625)\"/>\n      <path id=\"DejaVuSans-20\" transform=\"scale(0.015625)\"/>\n     </defs>\n     <use xlink:href=\"#DejaVuSans-54\"/>\n     <use x=\"44.083984\" xlink:href=\"#DejaVuSans-65\"/>\n     <use x=\"105.607422\" xlink:href=\"#DejaVuSans-73\"/>\n     <use x=\"157.707031\" xlink:href=\"#DejaVuSans-74\"/>\n     <use x=\"196.916016\" xlink:href=\"#DejaVuSans-20\"/>\n     <use x=\"228.703125\" xlink:href=\"#DejaVuSans-73\"/>\n     <use x=\"280.802734\" xlink:href=\"#DejaVuSans-65\"/>\n     <use x=\"342.326172\" xlink:href=\"#DejaVuSans-74\"/>\n    </g>\n   </g>\n  </g>\n </g>\n <defs>\n  <clipPath id=\"p92737df356\">\n   <rect height=\"217.44\" width=\"334.8\" x=\"34.240625\" y=\"22.318125\"/>\n  </clipPath>\n </defs>\n</svg>\n",
      "image/png": "[encoded data removed]"
     },
     "metadata": {
      "needs_background": "light"
     }
    }
   ],
   "metadata": {}
  },
  {
   "cell_type": "code",
   "execution_count": 105,
   "source": [
    "\n",
    "from sklearn.metrics import r2_score\n",
    "r2_score(y_test, model.predict(x_test))*100"
   ],
   "outputs": [
    {
     "output_type": "execute_result",
     "data": {
      "text/plain": [
       "-77.85933043233315"
      ]
     },
     "metadata": {},
     "execution_count": 105
    }
   ],
   "metadata": {}
  }
 ],
 "metadata": {
  "orig_nbformat": 4,
  "language_info": {
   "name": "python",
   "version": "3.9.6",
   "mimetype": "text/x-python",
   "codemirror_mode": {
    "name": "ipython",
    "version": 3
   },
   "pygments_lexer": "ipython3",
   "nbconvert_exporter": "python",
   "file_extension": ".py"
  },
  "kernelspec": {
   "name": "python3",
   "display_name": "Python 3.9.6 64-bit ('.venv': poetry)"
  },
  "interpreter": {
   "hash": "1770e9f74c1fa4f38dd9cc431bf5ef1e9b15239913c29a240bff7c8f093eaef2"
  }
 },
 "nbformat": 4,
 "nbformat_minor": 2
}